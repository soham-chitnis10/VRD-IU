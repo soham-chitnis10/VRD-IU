{
  "cells": [
    {
      "cell_type": "code",
      "source": [
        "from google.colab import drive\n",
        "drive.mount('/content/drive')"
      ],
      "metadata": {
        "colab": {
          "base_uri": "https://localhost:8080/"
        },
        "id": "pls1YDcLn58x",
        "outputId": "96dcfc7d-0c23-4327-9382-6e9512683e93"
      },
      "execution_count": 1,
      "outputs": [
        {
          "output_type": "stream",
          "name": "stdout",
          "text": [
            "Mounted at /content/drive\n"
          ]
        }
      ]
    },
    {
      "cell_type": "code",
      "source": [
        "%cd /content/drive/MyDrive/VRD-IU"
      ],
      "metadata": {
        "colab": {
          "base_uri": "https://localhost:8080/"
        },
        "id": "PoQlzLLAn8GZ",
        "outputId": "f3b25115-b1f4-44ad-a113-4f0a9904d96f"
      },
      "execution_count": 2,
      "outputs": [
        {
          "output_type": "stream",
          "name": "stdout",
          "text": [
            "/content/drive/MyDrive/VRD-IU\n"
          ]
        }
      ]
    },
    {
      "cell_type": "code",
      "execution_count": 6,
      "metadata": {
        "vscode": {
          "languageId": "plaintext"
        },
        "id": "ZbejkBiFaajq"
      },
      "outputs": [],
      "source": [
        "import pickle\n",
        "import os\n",
        "from PIL import Image\n",
        "import numpy as np\n",
        "from torchvision import transforms\n",
        "from tqdm import tqdm\n",
        "def extract_component(pickle_file, image_path_root, save_dir):\n",
        "    if not os.path.exists(save_dir):\n",
        "        os.makedirs(save_dir)\n",
        "    with open(pickle_file, 'rb') as file:\n",
        "        data = pickle.load(file)\n",
        "    for k in tqdm(data.keys()):\n",
        "        components = data[k]['components']\n",
        "        for comp in components:\n",
        "            if os.path.exists(os.path.join(save_dir,f\"{comp['object_id']}.png\")):\n",
        "                continue\n",
        "            try:\n",
        "              img = Image.open(f\"{os.path.join(image_path_root,k)}_page-{comp['page']}.png\").convert(\"RGB\")\n",
        "              bbox = comp['bbox']\n",
        "              cropped_img = transforms.functional.crop(img,top=bbox[1],left=bbox[0],height=bbox[3],width=bbox[2])\n",
        "              cropped_img.save(os.path.join(save_dir,f\"{comp['object_id']}.png\"))\n",
        "            except Exception as e:\n",
        "              print(comp)\n",
        "              print(e)\n",
        "              print(k)"
      ]
    },
    {
      "cell_type": "code",
      "source": [
        "extract_component(\"train_data.pkl\",\"train/train\",\"train_components\")"
      ],
      "metadata": {
        "colab": {
          "base_uri": "https://localhost:8080/"
        },
        "id": "vxiACYo3rIDZ",
        "outputId": "06286154-8a2e-4d7e-8e43-be0a504f8884"
      },
      "execution_count": 4,
      "outputs": [
        {
          "output_type": "stream",
          "name": "stderr",
          "text": [
            " 40%|████      | 231/571 [02:46<04:39,  1.21it/s]"
          ]
        },
        {
          "output_type": "stream",
          "name": "stdout",
          "text": [
            "{'bbox': [0.0, 0.0, 0.0, 0.0], 'segmentation': [[194.1, 145.8, 194.1, 1731.2, 193.8, 145.8]], 'category_id': 3, 'category': 'other', 'page': 0, 'relations': {'child': [], 'parent': [], 'above': [], 'following': [], 'context': [], 'figure': [], 'table': []}, 'object_id': 35734, 'text': ''}\n",
            "tile cannot extend outside image\n"
          ]
        },
        {
          "output_type": "stream",
          "name": "stderr",
          "text": [
            "100%|██████████| 571/571 [02:52<00:00,  3.32it/s]\n"
          ]
        }
      ]
    },
    {
      "cell_type": "code",
      "source": [
        "extract_component(\"val_data.pkl\",\"val/val\",\"val_components\")"
      ],
      "metadata": {
        "colab": {
          "base_uri": "https://localhost:8080/"
        },
        "id": "nkD3UisQrdqZ",
        "outputId": "41225f91-8b2c-4ade-f228-65331cd27e81"
      },
      "execution_count": 9,
      "outputs": [
        {
          "output_type": "stream",
          "name": "stderr",
          "text": [
            " 51%|█████     | 41/81 [00:01<00:00, 51.35it/s]"
          ]
        },
        {
          "output_type": "stream",
          "name": "stdout",
          "text": [
            "{'bbox': [0.0, 0.0, 0.0, 0.0], 'segmentation': [[194.1, 145.8, 194.1, 1731.2, 193.8, 145.8]], 'category_id': 3, 'category': 'other', 'page': 0, 'object_id': 35734, 'text': ''}\n",
            "tile cannot extend outside image\n",
            "a073265_tr1193_a_2006_12410091\n"
          ]
        },
        {
          "output_type": "stream",
          "name": "stderr",
          "text": [
            "100%|██████████| 81/81 [00:08<00:00,  9.16it/s]\n"
          ]
        }
      ]
    },
    {
      "cell_type": "code",
      "source": [
        "# Error in Val data\n",
        "with open(\"val_data.pkl\", 'rb') as file:\n",
        "    data = pickle.load(file)\n",
        "    data[\"a108309_e52_2356_2016p ned_s creek partial surrender report 2016\"]=data.pop(\"a108309_e52_2356_2016p ned's creek partial surrender report 2016\")\n",
        "with open(\"val_data.pkl\", 'wb') as file:\n",
        "    pickle.dump(data, file)"
      ],
      "metadata": {
        "id": "E06jKEjVsQEZ"
      },
      "execution_count": 8,
      "outputs": []
    },
    {
      "cell_type": "code",
      "source": [],
      "metadata": {
        "id": "IklhPNZ21nj4"
      },
      "execution_count": null,
      "outputs": []
    }
  ],
  "metadata": {
    "language_info": {
      "name": "python"
    },
    "colab": {
      "provenance": []
    },
    "kernelspec": {
      "name": "python3",
      "display_name": "Python 3"
    }
  },
  "nbformat": 4,
  "nbformat_minor": 0
}
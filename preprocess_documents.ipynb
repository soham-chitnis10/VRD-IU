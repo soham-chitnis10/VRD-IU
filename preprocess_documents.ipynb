{
  "cells": [
    {
      "cell_type": "code",
      "source": [
        "from google.colab import drive\n",
        "drive.mount('/content/drive')"
      ],
      "metadata": {
        "id": "pls1YDcLn58x",
        "outputId": "a77c440c-bedd-4c23-d368-e933e0cc92a6",
        "colab": {
          "base_uri": "https://localhost:8080/"
        }
      },
      "execution_count": 1,
      "outputs": [
        {
          "output_type": "stream",
          "name": "stdout",
          "text": [
            "Mounted at /content/drive\n"
          ]
        }
      ]
    },
    {
      "cell_type": "code",
      "source": [
        "%cd /content/drive/MyDrive/VRD-IU"
      ],
      "metadata": {
        "id": "PoQlzLLAn8GZ",
        "outputId": "1805cb20-5b23-4abb-b245-b3b60ba02c61",
        "colab": {
          "base_uri": "https://localhost:8080/"
        }
      },
      "execution_count": 2,
      "outputs": [
        {
          "output_type": "stream",
          "name": "stdout",
          "text": [
            "/content/drive/MyDrive/VRD-IU\n"
          ]
        }
      ]
    },
    {
      "cell_type": "code",
      "execution_count": 3,
      "metadata": {
        "vscode": {
          "languageId": "plaintext"
        },
        "id": "ZbejkBiFaajq"
      },
      "outputs": [],
      "source": [
        "import pickle\n",
        "import os\n",
        "from PIL import Image\n",
        "import numpy as np\n",
        "from torchvision import transforms\n",
        "from tqdm import tqdm\n",
        "def extract_component(pickle_file, image_path_root, save_dir):\n",
        "    if not os.path.exists(save_dir):\n",
        "        os.makedirs(save_dir)\n",
        "    with open(pickle_file, 'rb') as file:\n",
        "        data = pickle.load(file)\n",
        "    for k in tqdm(data.keys()):\n",
        "        components = data[k]['components']\n",
        "        for comp in components:\n",
        "            img = Image.open(f\"{os.path.join(image_path_root,k)}_page-{comp['page']}.png\").convert(\"RGB\")\n",
        "            bbox = comp['bbox']\n",
        "            cropped_img = transforms.functional.crop(img,top=bbox[1],left=bbox[0],height=bbox[3],width=bbox[2])\n",
        "            cropped_img.save(os.path.join(save_dir,f\"{comp['object_id']}.png\"))"
      ]
    },
    {
      "cell_type": "code",
      "source": [
        "extract_component(\"train_data.pkl\",\"train/train\",\"train_components\")"
      ],
      "metadata": {
        "id": "vxiACYo3rIDZ",
        "outputId": "aa5f7879-2fd8-43cc-8b3b-02987299bed1",
        "colab": {
          "base_uri": "https://localhost:8080/"
        }
      },
      "execution_count": null,
      "outputs": [
        {
          "output_type": "stream",
          "name": "stderr",
          "text": [
            "  0%|          | 2/571 [00:48<3:27:36, 21.89s/it]"
          ]
        }
      ]
    },
    {
      "cell_type": "code",
      "source": [
        "extract_component(\"val_data.pkl\",\"val/val\",\"val_components\")"
      ],
      "metadata": {
        "id": "nkD3UisQrdqZ"
      },
      "execution_count": null,
      "outputs": []
    },
    {
      "cell_type": "code",
      "source": [],
      "metadata": {
        "id": "E06jKEjVsQEZ"
      },
      "execution_count": null,
      "outputs": []
    }
  ],
  "metadata": {
    "language_info": {
      "name": "python"
    },
    "colab": {
      "provenance": []
    },
    "kernelspec": {
      "name": "python3",
      "display_name": "Python 3"
    }
  },
  "nbformat": 4,
  "nbformat_minor": 0
}
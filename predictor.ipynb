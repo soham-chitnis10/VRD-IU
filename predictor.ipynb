{
 "cells": [
  {
   "cell_type": "code",
   "execution_count": 1,
   "metadata": {},
   "outputs": [],
   "source": [
    "import pickle\n",
    "with open('train_data.pkl',\"rb\") as f:\n",
    "    data = pickle.load(f)"
   ]
  },
  {
   "cell_type": "code",
   "execution_count": 16,
   "metadata": {},
   "outputs": [],
   "source": [
    "doc = data['a108558_a108558_v1_report']"
   ]
  },
  {
   "cell_type": "code",
   "execution_count": 17,
   "metadata": {},
   "outputs": [
    {
     "data": {
      "text/plain": [
       "47"
      ]
     },
     "execution_count": 17,
     "metadata": {},
     "output_type": "execute_result"
    }
   ],
   "source": [
    "len(doc['components'])"
   ]
  },
  {
   "cell_type": "code",
   "execution_count": 72,
   "metadata": {},
   "outputs": [
    {
     "name": "stderr",
     "output_type": "stream",
     "text": [
      "/home/soham/miniconda3/envs/vrd-iu/lib/python3.9/site-packages/dgl/heterograph.py:92: DGLWarning: Recommend creating graphs by `dgl.graph(data)` instead of `dgl.DGLGraph(data)`.\n",
      "  dgl_warning(\n"
     ]
    }
   ],
   "source": [
    "G = dgl.DGLGraph()"
   ]
  },
  {
   "cell_type": "code",
   "execution_count": 73,
   "metadata": {},
   "outputs": [],
   "source": [
    "nodes = [comp['object_id'] for comp in doc['components']]"
   ]
  },
  {
   "cell_type": "code",
   "execution_count": 74,
   "metadata": {},
   "outputs": [
    {
     "data": {
      "text/plain": [
       "[2352,\n",
       " 2353,\n",
       " 2354,\n",
       " 2355,\n",
       " 2356,\n",
       " 2357,\n",
       " 2358,\n",
       " 2359,\n",
       " 2360,\n",
       " 2361,\n",
       " 2362,\n",
       " 2363,\n",
       " 2364,\n",
       " 2365,\n",
       " 2366,\n",
       " 2367,\n",
       " 2368,\n",
       " 2369,\n",
       " 2370,\n",
       " 2371,\n",
       " 2372,\n",
       " 2373,\n",
       " 2374,\n",
       " 2375,\n",
       " 2376,\n",
       " 2377,\n",
       " 2378,\n",
       " 2379,\n",
       " 2380,\n",
       " 2381,\n",
       " 2382,\n",
       " 2383,\n",
       " 2384,\n",
       " 2385,\n",
       " 2386,\n",
       " 2387,\n",
       " 2388,\n",
       " 2389,\n",
       " 2390,\n",
       " 2391,\n",
       " 2392,\n",
       " 2393,\n",
       " 2394,\n",
       " 2395,\n",
       " 2396,\n",
       " 2397,\n",
       " 2398]"
      ]
     },
     "execution_count": 74,
     "metadata": {},
     "output_type": "execute_result"
    }
   ],
   "source": [
    "sorted(nodes)"
   ]
  },
  {
   "cell_type": "code",
   "execution_count": 75,
   "metadata": {},
   "outputs": [],
   "source": [
    "def load_feats(nodes):\n",
    "    obj_id_map = {}\n",
    "    tensors = []\n",
    "    for idx,node in enumerate(nodes):\n",
    "        tensors.append(torch.load(f\"train_visual_features/{node}.pt\",map_location=torch.device(\"cpu\")).unsqueeze(0))\n",
    "        obj_id_map[node] = idx\n",
    "    return torch.cat(tensors,dim=0), obj_id_map"
   ]
  },
  {
   "cell_type": "code",
   "execution_count": 76,
   "metadata": {},
   "outputs": [
    {
     "name": "stderr",
     "output_type": "stream",
     "text": [
      "/tmp/ipykernel_39351/3225281269.py:5: FutureWarning: You are using `torch.load` with `weights_only=False` (the current default value), which uses the default pickle module implicitly. It is possible to construct malicious pickle data which will execute arbitrary code during unpickling (See https://github.com/pytorch/pytorch/blob/main/SECURITY.md#untrusted-models for more details). In a future release, the default value for `weights_only` will be flipped to `True`. This limits the functions that could be executed during unpickling. Arbitrary objects will no longer be allowed to be loaded via this mode unless they are explicitly allowlisted by the user via `torch.serialization.add_safe_globals`. We recommend you start setting `weights_only=True` for any use case where you don't have full control of the loaded file. Please open an issue on GitHub for any issues related to this experimental feature.\n",
      "  tensors.append(torch.load(f\"train_visual_features/{node}.pt\",map_location=torch.device(\"cpu\")).unsqueeze(0))\n"
     ]
    }
   ],
   "source": [
    "feats, obj_id_map = load_feats(nodes)"
   ]
  },
  {
   "cell_type": "code",
   "execution_count": 77,
   "metadata": {},
   "outputs": [
    {
     "data": {
      "text/plain": [
       "torch.Size([47, 1536])"
      ]
     },
     "execution_count": 77,
     "metadata": {},
     "output_type": "execute_result"
    }
   ],
   "source": [
    "feats.shape"
   ]
  },
  {
   "cell_type": "code",
   "execution_count": 78,
   "metadata": {},
   "outputs": [],
   "source": [
    "G.add_nodes(len(nodes))"
   ]
  },
  {
   "cell_type": "code",
   "execution_count": 79,
   "metadata": {},
   "outputs": [
    {
     "data": {
      "text/plain": [
       "Graph(num_nodes=47, num_edges=0,\n",
       "      ndata_schemes={}\n",
       "      edata_schemes={})"
      ]
     },
     "execution_count": 79,
     "metadata": {},
     "output_type": "execute_result"
    }
   ],
   "source": [
    "G"
   ]
  },
  {
   "cell_type": "code",
   "execution_count": 80,
   "metadata": {},
   "outputs": [],
   "source": [
    "edges_u = []\n",
    "edges_v = []\n",
    "for comp in doc['components']:\n",
    "    if comp['relations']['parent']!=[]:\n",
    "        edges_u.append(obj_id_map[comp['relations']['parent'][0]])\n",
    "        edges_v.append(obj_id_map[comp['object_id']])"
   ]
  },
  {
   "cell_type": "code",
   "execution_count": 81,
   "metadata": {},
   "outputs": [],
   "source": [
    "G.add_edges(edges_u,edges_v)"
   ]
  },
  {
   "cell_type": "code",
   "execution_count": 82,
   "metadata": {},
   "outputs": [
    {
     "data": {
      "text/plain": [
       "Graph(num_nodes=47, num_edges=26,\n",
       "      ndata_schemes={}\n",
       "      edata_schemes={})"
      ]
     },
     "execution_count": 82,
     "metadata": {},
     "output_type": "execute_result"
    }
   ],
   "source": [
    "G"
   ]
  },
  {
   "cell_type": "code",
   "execution_count": 83,
   "metadata": {},
   "outputs": [
    {
     "data": {
      "image/png": "[encoded data removed]",
      "text/plain": [
       "<Figure size 640x480 with 1 Axes>"
      ]
     },
     "metadata": {},
     "output_type": "display_data"
    }
   ],
   "source": [
    "import networkx as nx\n",
    "g = G.to_networkx()\n",
    "nx.draw(g,with_labels=True)"
   ]
  },
  {
   "cell_type": "code",
   "execution_count": 84,
   "metadata": {},
   "outputs": [],
   "source": [
    "G.ndata['h'] =feats"
   ]
  },
  {
   "cell_type": "code",
   "execution_count": 85,
   "metadata": {},
   "outputs": [
    {
     "data": {
      "text/plain": [
       "{'h': tensor([[-0.5135, -1.8189,  0.9909,  ..., -1.3841,  1.9964,  0.6938],\n",
       "        [-0.6736, -2.4217,  1.4115,  ..., -2.5996, -0.1033,  1.2129],\n",
       "        [ 1.7688, -0.6689, -0.3375,  ..., -1.6321,  1.2862, -0.2960],\n",
       "        ...,\n",
       "        [ 1.3295, -0.7958, -1.1448,  ..., -0.6168,  0.1610,  1.0041],\n",
       "        [-1.3579,  3.4302, -0.0935,  ..., -0.7392,  1.1951,  1.3478],\n",
       "        [ 1.4183, -0.9734, -0.4425,  ..., -0.6770,  1.8190,  0.5792]])}"
      ]
     },
     "execution_count": 85,
     "metadata": {},
     "output_type": "execute_result"
    }
   ],
   "source": [
    "G.ndata"
   ]
  },
  {
   "cell_type": "code",
   "execution_count": 86,
   "metadata": {},
   "outputs": [],
   "source": [
    "model = MLPPredictor(G.ndata['h'].shape[1])"
   ]
  },
  {
   "cell_type": "code",
   "execution_count": 89,
   "metadata": {},
   "outputs": [
    {
     "data": {
      "text/plain": [
       "torch.Size([26])"
      ]
     },
     "execution_count": 89,
     "metadata": {},
     "output_type": "execute_result"
    }
   ],
   "source": [
    "model(G,feats).shape"
   ]
  },
  {
   "cell_type": "code",
   "execution_count": 102,
   "metadata": {},
   "outputs": [
    {
     "name": "stderr",
     "output_type": "stream",
     "text": [
      "/home/soham/miniconda3/envs/vrd-iu/lib/python3.9/site-packages/dgl/heterograph.py:92: DGLWarning: Recommend creating graphs by `dgl.graph(data)` instead of `dgl.DGLGraph(data)`.\n",
      "  dgl_warning(\n"
     ]
    }
   ],
   "source": [
    "G2 = dgl.DGLGraph()\n",
    "G2.add_nodes(47)"
   ]
  },
  {
   "cell_type": "code",
   "execution_count": 104,
   "metadata": {},
   "outputs": [],
   "source": [
    "node_pairs = torch.combinations(torch.arange(G2.num_nodes()),r=2)\n",
    "G2.add_edges(node_pairs[:,0],node_pairs[:,1])\n",
    "G2.add_edges(node_pairs[:,1],node_pairs[:,0])"
   ]
  },
  {
   "cell_type": "code",
   "execution_count": 105,
   "metadata": {},
   "outputs": [
    {
     "data": {
      "text/plain": [
       "torch.Size([1081, 2])"
      ]
     },
     "execution_count": 105,
     "metadata": {},
     "output_type": "execute_result"
    }
   ],
   "source": [
    "node_pairs.shape"
   ]
  },
  {
   "cell_type": "code",
   "execution_count": 99,
   "metadata": {},
   "outputs": [
    {
     "data": {
      "image/png": "[encoded data removed]",
      "text/plain": [
       "<Figure size 640x480 with 1 Axes>"
      ]
     },
     "metadata": {},
     "output_type": "display_data"
    }
   ],
   "source": [
    "import networkx as nx\n",
    "g = G2.to_networkx()\n",
    "nx.draw(g,with_labels=True)"
   ]
  },
  {
   "cell_type": "code",
   "execution_count": 106,
   "metadata": {},
   "outputs": [
    {
     "data": {
      "text/plain": [
       "(tensor([ 0,  0,  0,  ..., 45, 46, 46]),\n",
       " tensor([ 1,  2,  3,  ..., 44, 44, 45]))"
      ]
     },
     "execution_count": 106,
     "metadata": {},
     "output_type": "execute_result"
    }
   ],
   "source": [
    "G2.edges()"
   ]
  },
  {
   "cell_type": "code",
   "execution_count": 107,
   "metadata": {},
   "outputs": [],
   "source": [
    "scores = model(G2,feats)"
   ]
  },
  {
   "cell_type": "code",
   "execution_count": 108,
   "metadata": {},
   "outputs": [
    {
     "data": {
      "text/plain": [
       "torch.Size([2162])"
      ]
     },
     "execution_count": 108,
     "metadata": {},
     "output_type": "execute_result"
    }
   ],
   "source": [
    "scores.shape"
   ]
  },
  {
   "cell_type": "code",
   "execution_count": 109,
   "metadata": {},
   "outputs": [],
   "source": [
    "possible_edges = G2.edges()\n",
    "all_edges = [(possible_edges[0][idx], possible_edges[1][idx] ) for idx in range(G2.num_edges())]"
   ]
  },
  {
   "cell_type": "code",
   "execution_count": 111,
   "metadata": {},
   "outputs": [],
   "source": [
    "p_edges = G.edges()\n",
    "positive_edges = [(p_edges[0][idx], p_edges[1][idx]) for idx in range(G.num_edges())]"
   ]
  },
  {
   "cell_type": "code",
   "execution_count": 115,
   "metadata": {},
   "outputs": [],
   "source": [
    "positive_indices = [idx for idx in range(len(all_edges)) if all_edges[idx] in positive_edges]"
   ]
  },
  {
   "cell_type": "code",
   "execution_count": 117,
   "metadata": {},
   "outputs": [
    {
     "data": {
      "text/plain": [
       "26"
      ]
     },
     "execution_count": 117,
     "metadata": {},
     "output_type": "execute_result"
    }
   ],
   "source": [
    "positive_indices"
   ]
  },
  {
   "cell_type": "code",
   "execution_count": 118,
   "metadata": {},
   "outputs": [],
   "source": [
    "labels = torch.zeros(len(all_edges))\n",
    "labels[positive_indices]=1"
   ]
  },
  {
   "cell_type": "code",
   "execution_count": null,
   "metadata": {},
   "outputs": [
    {
     "data": {
      "text/plain": [
       "tensor(26.)"
      ]
     },
     "execution_count": 120,
     "metadata": {},
     "output_type": "execute_result"
    }
   ],
   "source": [
    "labels"
   ]
  },
  {
   "cell_type": "code",
   "execution_count": 124,
   "metadata": {},
   "outputs": [],
   "source": [
    "from torch import optim\n",
    "optimizer = optim.Adam(model.parameters(), lr=0.01)"
   ]
  },
  {
   "cell_type": "code",
   "execution_count": 125,
   "metadata": {},
   "outputs": [
    {
     "name": "stdout",
     "output_type": "stream",
     "text": [
      "Epoch: 0 Loss: 0.4821370840072632\n",
      "Epoch: 1 Loss: 9.421836853027344\n",
      "Epoch: 2 Loss: 0.1027931421995163\n",
      "Epoch: 3 Loss: 0.24829638004302979\n",
      "Epoch: 4 Loss: 0.3043666481971741\n",
      "Epoch: 5 Loss: 0.301500529050827\n",
      "Epoch: 6 Loss: 0.2662358283996582\n",
      "Epoch: 7 Loss: 0.2173415571451187\n",
      "Epoch: 8 Loss: 0.16728997230529785\n",
      "Epoch: 9 Loss: 0.12216683477163315\n",
      "Epoch: 10 Loss: 0.08801114559173584\n",
      "Epoch: 11 Loss: 0.08804447203874588\n",
      "Epoch: 12 Loss: 0.07413918524980545\n",
      "Epoch: 13 Loss: 0.06788262724876404\n",
      "Epoch: 14 Loss: 0.07214763015508652\n",
      "Epoch: 15 Loss: 0.06933894753456116\n",
      "Epoch: 16 Loss: 0.06353525072336197\n",
      "Epoch: 17 Loss: 0.06364788115024567\n",
      "Epoch: 18 Loss: 0.06505966186523438\n",
      "Epoch: 19 Loss: 0.06437698006629944\n",
      "Epoch: 20 Loss: 0.06154046207666397\n",
      "Epoch: 21 Loss: 0.058891672641038895\n",
      "Epoch: 22 Loss: 0.057714253664016724\n",
      "Epoch: 23 Loss: 0.05294961854815483\n",
      "Epoch: 24 Loss: 0.05061683431267738\n",
      "Epoch: 25 Loss: 0.050817880779504776\n",
      "Epoch: 26 Loss: 0.05059709772467613\n",
      "Epoch: 27 Loss: 0.04917435720562935\n",
      "Epoch: 28 Loss: 0.04930004104971886\n",
      "Epoch: 29 Loss: 0.04724457114934921\n",
      "Epoch: 30 Loss: 0.045977797359228134\n",
      "Epoch: 31 Loss: 0.04578461870551109\n",
      "Epoch: 32 Loss: 0.04531756788492203\n",
      "Epoch: 33 Loss: 0.04471571370959282\n",
      "Epoch: 34 Loss: 0.04366873577237129\n",
      "Epoch: 35 Loss: 0.04326050356030464\n",
      "Epoch: 36 Loss: 0.04207121953368187\n",
      "Epoch: 37 Loss: 0.04231949523091316\n",
      "Epoch: 38 Loss: 0.041638877242803574\n",
      "Epoch: 39 Loss: 0.04062104970216751\n",
      "Epoch: 40 Loss: 0.03982032835483551\n",
      "Epoch: 41 Loss: 0.03858911618590355\n",
      "Epoch: 42 Loss: 0.037938863039016724\n",
      "Epoch: 43 Loss: 0.03714798390865326\n",
      "Epoch: 44 Loss: 0.03663018345832825\n",
      "Epoch: 45 Loss: 0.035611171275377274\n",
      "Epoch: 46 Loss: 0.03490018472075462\n",
      "Epoch: 47 Loss: 0.033825624734163284\n",
      "Epoch: 48 Loss: 0.0332571379840374\n",
      "Epoch: 49 Loss: 0.03301291540265083\n",
      "Epoch: 50 Loss: 0.03223990648984909\n",
      "Epoch: 51 Loss: 0.03147399425506592\n",
      "Epoch: 52 Loss: 0.030828261747956276\n",
      "Epoch: 53 Loss: 0.03021472878754139\n",
      "Epoch: 54 Loss: 0.029631156474351883\n",
      "Epoch: 55 Loss: 0.029754074290394783\n",
      "Epoch: 56 Loss: 0.029490336775779724\n",
      "Epoch: 57 Loss: 0.029619865119457245\n",
      "Epoch: 58 Loss: 0.028495175763964653\n",
      "Epoch: 59 Loss: 0.02848612703382969\n",
      "Epoch: 60 Loss: 0.027722902595996857\n",
      "Epoch: 61 Loss: 0.028091315180063248\n",
      "Epoch: 62 Loss: 0.026538223028182983\n",
      "Epoch: 63 Loss: 0.02688296139240265\n",
      "Epoch: 64 Loss: 0.025635622441768646\n",
      "Epoch: 65 Loss: 0.026839615777134895\n",
      "Epoch: 66 Loss: 0.025228964164853096\n",
      "Epoch: 67 Loss: 0.02598046511411667\n",
      "Epoch: 68 Loss: 0.024942124262452126\n",
      "Epoch: 69 Loss: 0.024663856253027916\n",
      "Epoch: 70 Loss: 0.02414703741669655\n",
      "Epoch: 71 Loss: 0.02417907305061817\n",
      "Epoch: 72 Loss: 0.02386675961315632\n",
      "Epoch: 73 Loss: 0.023055385798215866\n",
      "Epoch: 74 Loss: 0.022906646132469177\n",
      "Epoch: 75 Loss: 0.022580156102776527\n",
      "Epoch: 76 Loss: 0.022836856544017792\n",
      "Epoch: 77 Loss: 0.021482320502400398\n",
      "Epoch: 78 Loss: 0.022097252309322357\n",
      "Epoch: 79 Loss: 0.021796412765979767\n",
      "Epoch: 80 Loss: 0.023145049810409546\n",
      "Epoch: 81 Loss: 0.023113282397389412\n",
      "Epoch: 82 Loss: 0.02257881872355938\n",
      "Epoch: 83 Loss: 0.022497383877635002\n",
      "Epoch: 84 Loss: 0.023176409304142\n",
      "Epoch: 85 Loss: 0.02210984379053116\n",
      "Epoch: 86 Loss: 0.02132786624133587\n",
      "Epoch: 87 Loss: 0.023068802431225777\n",
      "Epoch: 88 Loss: 0.021517885848879814\n",
      "Epoch: 89 Loss: 0.02205268293619156\n",
      "Epoch: 90 Loss: 0.02169293351471424\n",
      "Epoch: 91 Loss: 0.021038608625531197\n",
      "Epoch: 92 Loss: 0.020466305315494537\n",
      "Epoch: 93 Loss: 0.01997949928045273\n",
      "Epoch: 94 Loss: 0.021055132150650024\n",
      "Epoch: 95 Loss: 0.019064605236053467\n",
      "Epoch: 96 Loss: 0.020094048231840134\n",
      "Epoch: 97 Loss: 0.020075058564543724\n",
      "Epoch: 98 Loss: 0.020233210176229477\n",
      "Epoch: 99 Loss: 0.019262107089161873\n"
     ]
    }
   ],
   "source": [
    "for epoch in range(100):\n",
    "    scores = model(G2,feats)\n",
    "    loss = F.binary_cross_entropy_with_logits(scores, labels)\n",
    "    optimizer.zero_grad()\n",
    "    loss.backward()\n",
    "    optimizer.step()\n",
    "    print(f'Epoch: {epoch} Loss: {loss}')"
   ]
  },
  {
   "cell_type": "code",
   "execution_count": 126,
   "metadata": {},
   "outputs": [],
   "source": [
    "scores = model(G2,feats)"
   ]
  },
  {
   "cell_type": "code",
   "execution_count": 127,
   "metadata": {},
   "outputs": [],
   "source": [
    "probs = F.sigmoid(scores)"
   ]
  },
  {
   "cell_type": "code",
   "execution_count": 144,
   "metadata": {},
   "outputs": [],
   "source": [
    "pred = (probs>=0.5).int()"
   ]
  },
  {
   "cell_type": "code",
   "execution_count": 145,
   "metadata": {},
   "outputs": [
    {
     "data": {
      "text/plain": [
       "tensor(2148)"
      ]
     },
     "execution_count": 145,
     "metadata": {},
     "output_type": "execute_result"
    }
   ],
   "source": [
    "(pred == labels).sum()"
   ]
  },
  {
   "cell_type": "code",
   "execution_count": 146,
   "metadata": {},
   "outputs": [
    {
     "data": {
      "text/plain": [
       "2162"
      ]
     },
     "execution_count": 146,
     "metadata": {},
     "output_type": "execute_result"
    }
   ],
   "source": [
    "len(all_edges)"
   ]
  },
  {
   "cell_type": "code",
   "execution_count": 148,
   "metadata": {},
   "outputs": [
    {
     "data": {
      "text/plain": [
       "0.9939858830308269"
      ]
     },
     "execution_count": 148,
     "metadata": {},
     "output_type": "execute_result"
    }
   ],
   "source": [
    "from sklearn.metrics import roc_auc_score\n",
    "roc_auc_score(labels.detach().numpy(), scores.detach().numpy())"
   ]
  },
  {
   "cell_type": "code",
   "execution_count": 149,
   "metadata": {},
   "outputs": [
    {
     "data": {
      "text/plain": [
       "571"
      ]
     },
     "execution_count": 149,
     "metadata": {},
     "output_type": "execute_result"
    }
   ],
   "source": [
    "len(data.keys())"
   ]
  },
  {
   "cell_type": "code",
   "execution_count": 8,
   "metadata": {},
   "outputs": [],
   "source": [
    "from torch.utils.data import Dataset, DataLoader\n",
    "import pickle\n",
    "import dgl\n",
    "import os\n",
    "import torch\n",
    "import numpy as np\n",
    "class GraphDataset(Dataset):\n",
    "    def __init__(self, pkl_file, feature_dir, test=False):\n",
    "        super().__init__()\n",
    "        with open(pkl_file,\"rb\") as f:\n",
    "            self.data = pickle.load(f)\n",
    "        self.feature_dir = feature_dir\n",
    "        self.test = test\n",
    "        self.docs = list(self.data.keys())\n",
    "\n",
    "    def __len__(self):\n",
    "        return len(self.data.keys())\n",
    "    \n",
    "    def load_feat(self,nodes):\n",
    "        tensors = []\n",
    "        for idx,node in enumerate(nodes):\n",
    "            try:\n",
    "                tensors.append(torch.load(f\"{self.feature_dir}/{node}.pt\",map_location=torch.device(\"cpu\"),weights_only=False).unsqueeze(0))\n",
    "            except:\n",
    "                tensors.append(torch.zeros((1,1536)))\n",
    "        return torch.cat(tensors,dim=0)\n",
    "    \n",
    "    def generate_edge_labels(self, components, possible_edges, nodes):\n",
    "        edges_u = []\n",
    "        edges_v = []\n",
    "        for comp in components:\n",
    "            if comp['relations']['parent']!=[]:\n",
    "                edges_u.append(comp['relations']['parent'][0])\n",
    "                edges_v.append(comp['object_id'])\n",
    "        get_node_index = lambda x: nodes.index(x)\n",
    "        zipped_p_edges = list(zip(list(map(get_node_index,edges_u)), list(map(get_node_index,edges_v))))\n",
    "        zipped_edges = list(zip(possible_edges[0],possible_edges[1]))\n",
    "        # print(zipped_edges)\n",
    "        get_edge_index = lambda x: zipped_edges.index(x)\n",
    "        positive_indices = list(map(get_edge_index,zipped_p_edges))\n",
    "        labels = torch.zeros(len(zipped_edges))\n",
    "        labels[positive_indices]=1\n",
    "        return labels\n",
    "        \n",
    "    def __getitem__(self, index):\n",
    "        doc = self.docs[index]\n",
    "        components = self.data[doc]['components']\n",
    "        nodes = sorted([comp['object_id'] for comp in components])\n",
    "        feats = self.load_feat(nodes)\n",
    "        edges = torch.combinations(torch.arange(len(nodes)), r=2) #NC2\n",
    "        g = dgl.DGLGraph()\n",
    "        g.add_nodes(len(nodes))\n",
    "        g.add_edges(edges[:,0],edges[:,1])\n",
    "        g.add_edges(edges[:,1],edges[:,0])\n",
    "        if self.test:\n",
    "            return g, feats, nodes\n",
    "        labels = self.generate_edge_labels(components,g.edges(),nodes)\n",
    "        return g, feats, nodes, labels\n",
    "            "
   ]
  },
  {
   "cell_type": "code",
   "execution_count": 9,
   "metadata": {},
   "outputs": [],
   "source": [
    "import torch\n",
    "import torch.nn as nn\n",
    "import dgl\n",
    "import torch.nn.functional as F\n",
    "class MLPPredictor(nn.Module):\n",
    "    def __init__(self, h_feats):\n",
    "        super().__init__()\n",
    "        self.W1 = nn.Linear(h_feats * 2, h_feats)\n",
    "        self.W2 = nn.Linear(h_feats, 1)\n",
    "\n",
    "    def apply_edges(self, edges):\n",
    "        \"\"\"\n",
    "        Computes a scalar score for each edge of the given graph.\n",
    "\n",
    "        Parameters\n",
    "        ----------\n",
    "        edges :\n",
    "            Has three members ``src``, ``dst`` and ``data``, each of\n",
    "            which is a dictionary representing the features of the\n",
    "            source nodes, the destination nodes, and the edges\n",
    "            themselves.\n",
    "\n",
    "        Returns\n",
    "        -------\n",
    "        dict\n",
    "            A dictionary of new edge features.\n",
    "        \"\"\"\n",
    "        h = torch.cat([edges.src['h'], edges.dst['h']], 1)\n",
    "        return {'score': self.W2(F.relu(self.W1(h))).squeeze(1)}\n",
    "\n",
    "    def forward(self, g, h):\n",
    "        with g.local_scope():\n",
    "            g.ndata['h'] = h\n",
    "            g.apply_edges(self.apply_edges)\n",
    "            return g.edata['score']"
   ]
  },
  {
   "cell_type": "code",
   "execution_count": 2,
   "metadata": {},
   "outputs": [],
   "source": [
    "dataset = GraphDataset('train_data.pkl','train_visual_features')"
   ]
  },
  {
   "cell_type": "code",
   "execution_count": 3,
   "metadata": {},
   "outputs": [],
   "source": [
    "from torch.utils.data import random_split\n",
    "train_dataset, val_dataset = random_split(dataset,[0.9,0.1])"
   ]
  },
  {
   "cell_type": "code",
   "execution_count": 24,
   "metadata": {},
   "outputs": [],
   "source": [
    "train_dataloader = DataLoader(train_dataset, batch_size=1, collate_fn=lambda batch: batch[0])\n",
    "val_dataloader = DataLoader(val_dataset, batch_size=1, collate_fn=lambda batch: batch[0])"
   ]
  },
  {
   "cell_type": "code",
   "execution_count": 5,
   "metadata": {},
   "outputs": [
    {
     "name": "stderr",
     "output_type": "stream",
     "text": [
      "  0%|          | 0/514 [00:00<?, ?it/s]/home/soham/miniconda3/envs/vrd-iu/lib/python3.9/site-packages/dgl/heterograph.py:92: DGLWarning: Recommend creating graphs by `dgl.graph(data)` instead of `dgl.DGLGraph(data)`.\n",
      "  dgl_warning(\n",
      "100%|██████████| 514/514 [23:45<00:00,  2.77s/it]   \n"
     ]
    }
   ],
   "source": [
    "from tqdm import tqdm\n",
    "for data in tqdm(train_dataloader):\n",
    "    data"
   ]
  },
  {
   "cell_type": "code",
   "execution_count": 25,
   "metadata": {},
   "outputs": [
    {
     "name": "stderr",
     "output_type": "stream",
     "text": [
      "  0%|          | 0/57 [00:00<?, ?it/s]/home/soham/miniconda3/envs/vrd-iu/lib/python3.9/site-packages/dgl/heterograph.py:92: DGLWarning: Recommend creating graphs by `dgl.graph(data)` instead of `dgl.DGLGraph(data)`.\n",
      "  dgl_warning(\n",
      "  0%|          | 0/57 [00:00<?, ?it/s]"
     ]
    },
    {
     "name": "stdout",
     "output_type": "stream",
     "text": [
      "Graph(num_nodes=53, num_edges=2756,\n",
      "      ndata_schemes={}\n",
      "      edata_schemes={}) tensor([[-1.4688, -2.1361,  1.8872,  ..., -2.4274,  0.5819,  1.1917],\n",
      "        [-2.0242, -0.8725,  0.8831,  ..., -1.0288, -0.8205,  1.4596],\n",
      "        [ 1.7721,  0.0444,  0.2839,  ..., -1.2139,  1.0206, -0.1244],\n",
      "        ...,\n",
      "        [-1.7613,  1.2278, -0.8789,  ..., -0.5335, -0.1988,  1.3170],\n",
      "        [-1.6533,  0.8201, -1.1555,  ..., -1.0754, -0.7554,  0.2373],\n",
      "        [-1.1284, -0.9977, -1.1646,  ..., -1.0313, -0.4424,  1.0587]]) [43447, 43448, 43449, 43450, 43451, 43452, 43453, 43454, 43455, 43456, 43457, 43458, 43459, 43460, 43461, 43462, 43463, 43464, 43465, 43466, 43467, 43468, 43469, 43470, 43471, 43472, 43473, 43474, 43475, 43476, 43477, 43478, 43479, 43480, 43481, 43482, 43483, 43484, 43485, 43486, 43487, 43488, 43489, 43490, 43491, 43492, 43493, 43494, 43495, 43496, 43497, 43498, 43499] tensor([0., 0., 0.,  ..., 0., 0., 0.])\n"
     ]
    },
    {
     "name": "stderr",
     "output_type": "stream",
     "text": [
      "\n"
     ]
    }
   ],
   "source": [
    "for g, feat, nodes, labels in tqdm(val_dataloader):\n",
    "    print(g, feat, nodes, labels)\n",
    "    break"
   ]
  },
  {
   "cell_type": "code",
   "execution_count": 10,
   "metadata": {},
   "outputs": [],
   "source": [
    "model = MLPPredictor(1536)\n",
    "from torch import optim\n",
    "optimizer = optim.Adam(model.parameters(), lr=0.01)"
   ]
  },
  {
   "cell_type": "code",
   "execution_count": null,
   "metadata": {},
   "outputs": [
    {
     "name": "stderr",
     "output_type": "stream",
     "text": [
      "  0%|          | 0/10 [00:00<?, ?it/s]/home/soham/miniconda3/envs/vrd-iu/lib/python3.9/site-packages/dgl/heterograph.py:92: DGLWarning: Recommend creating graphs by `dgl.graph(data)` instead of `dgl.DGLGraph(data)`.\n",
      "  dgl_warning(\n"
     ]
    }
   ],
   "source": [
    "for epoch in tqdm(range(10)):\n",
    "    total_loss = 0.0\n",
    "    model.train()\n",
    "    for g, feats, nodes, labels in train_dataloader:\n",
    "        scores = model(g,feats)\n",
    "        loss = F.binary_cross_entropy_with_logits(scores, labels)\n",
    "        optimizer.zero_grad()\n",
    "        loss.backward()\n",
    "        optimizer.step()\n",
    "        total_loss+=loss.item()\n",
    "    total_loss/=len(train_dataloader)\n",
    "    print(f'Epoch: {epoch} Train Loss: {total_loss}')\n",
    "    model.eval()\n",
    "    total_loss = 0.0\n",
    "    auc = 0.0\n",
    "    with torch.no_grad():\n",
    "        for g, feats, nodes, labels in val_dataloader:\n",
    "            scores = model(g,feats)\n",
    "            loss = F.binary_cross_entropy_with_logits(scores, labels)\n",
    "            total_loss+=loss.item()\n",
    "            auc+= roc_auc_score(labels.detach().numpy(), scores.detach().numpy())\n",
    "        total_loss/=len(val_dataloader)\n",
    "        auc/=len(val_dataloader)\n",
    "    print(f'Epoch: {epoch} Val Loss: {total_loss} AUC: {auc}')\n"
   ]
  },
  {
   "cell_type": "code",
   "execution_count": null,
   "metadata": {},
   "outputs": [],
   "source": []
  }
 ],
 "metadata": {
  "kernelspec": {
   "display_name": "vrd-iu",
   "language": "python",
   "name": "python3"
  },
  "language_info": {
   "codemirror_mode": {
    "name": "ipython",
    "version": 3
   },
   "file_extension": ".py",
   "mimetype": "text/x-python",
   "name": "python",
   "nbconvert_exporter": "python",
   "pygments_lexer": "ipython3",
   "version": "3.9.21"
  }
 },
 "nbformat": 4,
 "nbformat_minor": 2
}

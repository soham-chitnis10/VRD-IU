{
  "cells": [
    {
      "cell_type": "code",
      "execution_count": 1,
      "metadata": {
        "id": "bur2iB9tLq-a",
        "outputId": "3a79b8f8-4fe8-42d4-fcf1-aa1d46764815",
        "colab": {
          "base_uri": "https://localhost:8080/"
        }
      },
      "outputs": [
        {
          "output_type": "stream",
          "name": "stdout",
          "text": [
            "Mounted at /content/drive\n"
          ]
        }
      ],
      "source": [
        "from google.colab import drive\n",
        "drive.mount('/content/drive')"
      ]
    },
    {
      "cell_type": "code",
      "execution_count": 2,
      "metadata": {
        "id": "6hDMA4LfLq-c",
        "outputId": "7c7055d7-fea9-4f79-b8d5-c60c2eb5712d",
        "colab": {
          "base_uri": "https://localhost:8080/"
        }
      },
      "outputs": [
        {
          "output_type": "stream",
          "name": "stdout",
          "text": [
            "/content/drive/MyDrive/VRD-IU\n"
          ]
        }
      ],
      "source": [
        "%cd /content/drive/MyDrive/VRD-IU"
      ]
    },
    {
      "cell_type": "code",
      "execution_count": 3,
      "metadata": {
        "id": "yWfPGMwgLq-d"
      },
      "outputs": [],
      "source": [
        "!cp train_visual_features.pkl train_textual_features.pkl  obj_cat.csv /content/"
      ]
    },
    {
      "cell_type": "code",
      "execution_count": 4,
      "metadata": {
        "id": "nwtMmNy7Lq-d",
        "outputId": "39a19df6-8557-456b-985f-c5be83008dde",
        "colab": {
          "base_uri": "https://localhost:8080/"
        }
      },
      "outputs": [
        {
          "output_type": "stream",
          "name": "stdout",
          "text": [
            "/content\n"
          ]
        }
      ],
      "source": [
        "%cd /content/"
      ]
    },
    {
      "cell_type": "code",
      "source": [
        "import pickle\n",
        "with open(\"train_visual_features.pkl\", 'rb') as f:\n",
        "    visual_features = pickle.load(f)\n",
        "with open(\"train_textual_features.pkl\", 'rb') as f:\n",
        "    textual_features = pickle.load(f)"
      ],
      "metadata": {
        "id": "6dYSpFDmN2sg"
      },
      "execution_count": 5,
      "outputs": []
    },
    {
      "cell_type": "code",
      "execution_count": 6,
      "metadata": {
        "id": "BYWUMdMuLq-e"
      },
      "outputs": [],
      "source": [
        "from torch.utils.data import Dataset, DataLoader\n",
        "import os\n",
        "import torch\n",
        "import numpy as np\n",
        "import pandas as pd\n",
        "class FeatureDataset(Dataset):\n",
        "    def __init__(self, df,visual_features, textual_features):\n",
        "        super().__init__()\n",
        "        self.df = df\n",
        "        self.visual_features = torch.tensor(list(visual_features[visual_features['id'].isin(train_df['id'])]['features']))\n",
        "        self.textual_features = torch.tensor(list(textual_features[textual_features['id'].isin(train_df['id'])]['features']))\n",
        "\n",
        "    def __len__(self):\n",
        "        return len(self.df)\n",
        "\n",
        "    def __getitem__(self, index):\n",
        "        data = self.df.loc[index]\n",
        "        visual_feats = self.visual_features[index]\n",
        "        textual_feats = self.textual_features[index]\n",
        "        return visual_feats, textual_feats, int(data['class'])\n"
      ]
    },
    {
      "cell_type": "code",
      "execution_count": 7,
      "metadata": {
        "id": "VwMpOU6oLq-f"
      },
      "outputs": [],
      "source": [
        "df = pd.read_csv(\"obj_cat.csv\")\n",
        "from sklearn.model_selection import train_test_split\n",
        "train_df, val_df = train_test_split(df,test_size=0.2)"
      ]
    },
    {
      "cell_type": "code",
      "execution_count": 8,
      "metadata": {
        "id": "P8ug3GTtLq-f"
      },
      "outputs": [],
      "source": [
        "train_df = train_df.reset_index(drop=True)\n",
        "val_df = val_df.reset_index(drop=True)"
      ]
    },
    {
      "cell_type": "code",
      "execution_count": 9,
      "metadata": {
        "id": "MysQjaCqLq-g"
      },
      "outputs": [],
      "source": [
        "train_dataset = FeatureDataset(train_df,visual_features, textual_features)"
      ]
    },
    {
      "cell_type": "code",
      "execution_count": 10,
      "metadata": {
        "id": "9lhueSfKLq-h"
      },
      "outputs": [],
      "source": [
        "val_dataset = FeatureDataset(val_df,visual_features, textual_features)"
      ]
    },
    {
      "cell_type": "code",
      "execution_count": 11,
      "metadata": {
        "id": "f7MG6Q2hLq-h"
      },
      "outputs": [],
      "source": [
        "train_dataloader = DataLoader(train_dataset,batch_size=256,shuffle=True,num_workers=2)"
      ]
    },
    {
      "cell_type": "code",
      "execution_count": 12,
      "metadata": {
        "id": "VlKZH7EpLq-i"
      },
      "outputs": [],
      "source": [
        "val_dataloader = DataLoader(val_dataset,batch_size=256,shuffle=True,num_workers=2)"
      ]
    },
    {
      "cell_type": "code",
      "execution_count": 13,
      "metadata": {
        "id": "jrPbWH5yLq-i"
      },
      "outputs": [],
      "source": [
        "import torch.nn as nn\n",
        "class Classifer(nn.Module):\n",
        "    def __init__(self, *args, **kwargs):\n",
        "        super().__init__(*args, **kwargs)\n",
        "        self.fuser =  nn.Sequential(nn.Linear(1536+768,3072),\n",
        "                                   nn.ReLU(),\n",
        "                                   nn.Linear(3072,768))\n",
        "        self.fc = nn.Linear(768,25)\n",
        "\n",
        "    def forward(self, visual_feats, text_feats):\n",
        "        embed = self.fuser(torch.cat((visual_feats,text_feats),dim=1))\n",
        "        pred = self.fc(embed)\n",
        "        return pred"
      ]
    },
    {
      "cell_type": "code",
      "execution_count": 14,
      "metadata": {
        "id": "BSA9IDeTLq-i"
      },
      "outputs": [],
      "source": [
        "from torch import optim\n",
        "model = Classifer()\n",
        "device = torch.device(\"cuda\" if torch.cuda.is_available() else \"cpu\")\n",
        "model.to(device)\n",
        "criterion = nn.CrossEntropyLoss()\n",
        "optimizer = optim.Adam(model.parameters(),lr=1e-3)"
      ]
    },
    {
      "cell_type": "code",
      "execution_count": 19,
      "metadata": {
        "id": "rust6T0WLq-j"
      },
      "outputs": [],
      "source": [
        "def train(model, dataloader, criterion, optimizer):\n",
        "    model.train()\n",
        "    total_loss = 0.0\n",
        "    for visual_feats, text_feats, labels in dataloader:\n",
        "        visual_feats = visual_feats.to(device)\n",
        "        text_feats = text_feats.to(device)\n",
        "        labels = labels.to(device)\n",
        "        pred = model(visual_feats,text_feats)\n",
        "        loss = criterion(pred,labels)\n",
        "        total_loss += loss.item()\n",
        "        optimizer.zero_grad()\n",
        "        loss.backward()\n",
        "        optimizer.step()\n",
        "    return total_loss/len(dataloader)\n"
      ]
    },
    {
      "cell_type": "code",
      "execution_count": 20,
      "metadata": {
        "id": "DKVxXdjsLq-j"
      },
      "outputs": [],
      "source": [
        "from sklearn.metrics import f1_score, accuracy_score\n",
        "def evaluate(model, dataloader, criterion):\n",
        "    model.eval()\n",
        "    total_loss = 0.0\n",
        "    total_acc = 0.0\n",
        "    total_f1 = 0.0\n",
        "    with torch.no_grad():\n",
        "        for visual_feats, text_feats, labels in dataloader:\n",
        "            visual_feats = visual_feats.to(device)\n",
        "            text_feats = text_feats.to(device)\n",
        "            labels = labels.to(device)\n",
        "            pred = model(visual_feats,text_feats)\n",
        "            loss = criterion(pred,labels)\n",
        "            total_loss += loss.item()\n",
        "            predicted_labels = pred.argmax(dim=1)\n",
        "            f1 = f1_score(labels.detach().cpu().numpy(), predicted_labels.detach().cpu().numpy(),average=\"macro\")\n",
        "            acc = accuracy_score(labels.detach().cpu().numpy(), predicted_labels.detach().cpu().numpy())\n",
        "            total_f1+=f1\n",
        "            total_acc+=acc\n",
        "\n",
        "    return total_loss/len(dataloader),total_acc/len(dataloader),total_f1/len(dataloader)"
      ]
    },
    {
      "cell_type": "code",
      "execution_count": 21,
      "metadata": {
        "id": "bOT3G2HeLq-j",
        "outputId": "10a12f8e-d23a-422f-865c-ae2700d12374",
        "colab": {
          "base_uri": "https://localhost:8080/",
          "height": 734
        }
      },
      "outputs": [
        {
          "output_type": "stream",
          "name": "stderr",
          "text": [
            "  1%|          | 1/100 [00:03<05:23,  3.27s/it]"
          ]
        },
        {
          "output_type": "stream",
          "name": "stdout",
          "text": [
            "Epoch: 0 Train Loss: 2.1443084013812683 Val Loss: 2.137494858573465 Val Accuracy: 0.4676598714082407 Val F1: 0.030455218442424034\n"
          ]
        },
        {
          "output_type": "stream",
          "name": "stderr",
          "text": [
            "\r  2%|▏         | 2/100 [00:06<05:10,  3.16s/it]"
          ]
        },
        {
          "output_type": "stream",
          "name": "stdout",
          "text": [
            "Epoch: 1 Train Loss: 2.1357286511098637 Val Loss: 2.1322663461460785 Val Accuracy: 0.46840215420845754 Val F1: 0.030253217368888797\n"
          ]
        },
        {
          "output_type": "stream",
          "name": "stderr",
          "text": [
            "\r  3%|▎         | 3/100 [00:09<05:04,  3.14s/it]"
          ]
        },
        {
          "output_type": "stream",
          "name": "stdout",
          "text": [
            "Epoch: 2 Train Loss: 2.131291496403077 Val Loss: 2.1400526656824 Val Accuracy: 0.4674623881810789 Val F1: 0.031099832310136792\n"
          ]
        },
        {
          "output_type": "stream",
          "name": "stderr",
          "text": [
            "\r  4%|▍         | 4/100 [00:14<05:57,  3.72s/it]"
          ]
        },
        {
          "output_type": "stream",
          "name": "stdout",
          "text": [
            "Epoch: 3 Train Loss: 2.1320231206276836 Val Loss: 2.146492768736447 Val Accuracy: 0.4678690024396856 Val F1: 0.030247577561704618\n"
          ]
        },
        {
          "output_type": "stream",
          "name": "stderr",
          "text": [
            "\r  5%|▌         | 5/100 [00:17<05:36,  3.55s/it]"
          ]
        },
        {
          "output_type": "stream",
          "name": "stdout",
          "text": [
            "Epoch: 4 Train Loss: 2.126316413283348 Val Loss: 2.14267534718794 Val Accuracy: 0.4679838921455679 Val F1: 0.03023105930747808\n"
          ]
        },
        {
          "output_type": "stream",
          "name": "stderr",
          "text": [
            "\r  6%|▌         | 6/100 [00:20<05:20,  3.41s/it]"
          ]
        },
        {
          "output_type": "stream",
          "name": "stdout",
          "text": [
            "Epoch: 5 Train Loss: 2.1240774077527664 Val Loss: 2.14742575673496 Val Accuracy: 0.4675036849417186 Val F1: 0.030817596233722235\n"
          ]
        },
        {
          "output_type": "stream",
          "name": "stderr",
          "text": [
            "\r  7%|▋         | 7/100 [00:23<05:11,  3.35s/it]"
          ]
        },
        {
          "output_type": "stream",
          "name": "stdout",
          "text": [
            "Epoch: 6 Train Loss: 2.119578911977656 Val Loss: 2.164682125343996 Val Accuracy: 0.4668349950867444 Val F1: 0.030884636355198877\n"
          ]
        },
        {
          "output_type": "stream",
          "name": "stderr",
          "text": [
            "\r  8%|▊         | 8/100 [00:28<05:45,  3.75s/it]"
          ]
        },
        {
          "output_type": "stream",
          "name": "stdout",
          "text": [
            "Epoch: 7 Train Loss: 2.1172071484958424 Val Loss: 2.157144430805655 Val Accuracy: 0.4672972011385199 Val F1: 0.03095553586951735\n"
          ]
        },
        {
          "output_type": "stream",
          "name": "stderr",
          "text": [
            "\r  9%|▉         | 9/100 [00:31<05:26,  3.59s/it]"
          ]
        },
        {
          "output_type": "stream",
          "name": "stdout",
          "text": [
            "Epoch: 8 Train Loss: 2.110756856553695 Val Loss: 2.170809062088237 Val Accuracy: 0.466708457576579 Val F1: 0.03147917714436877\n"
          ]
        },
        {
          "output_type": "stream",
          "name": "stderr",
          "text": [
            "\r 10%|█         | 10/100 [00:34<05:12,  3.47s/it]"
          ]
        },
        {
          "output_type": "stream",
          "name": "stdout",
          "text": [
            "Epoch: 9 Train Loss: 2.1105248437208286 Val Loss: 2.1791907759273754 Val Accuracy: 0.4655505599417186 Val F1: 0.030726124768201104\n"
          ]
        },
        {
          "output_type": "stream",
          "name": "stderr",
          "text": [
            "\r 11%|█         | 11/100 [00:37<05:00,  3.37s/it]"
          ]
        },
        {
          "output_type": "stream",
          "name": "stdout",
          "text": [
            "Epoch: 10 Train Loss: 2.1055372813168693 Val Loss: 2.167041631305919 Val Accuracy: 0.4667910510978585 Val F1: 0.03135366233476894\n"
          ]
        },
        {
          "output_type": "stream",
          "name": "stderr",
          "text": [
            "\r 12%|█▏        | 12/100 [00:42<05:29,  3.75s/it]"
          ]
        },
        {
          "output_type": "stream",
          "name": "stdout",
          "text": [
            "Epoch: 11 Train Loss: 2.1030287400764576 Val Loss: 2.1691038187812355 Val Accuracy: 0.4660810644822445 Val F1: 0.030740503768517082\n"
          ]
        },
        {
          "output_type": "stream",
          "name": "stderr",
          "text": [
            "\r 13%|█▎        | 13/100 [00:45<05:10,  3.57s/it]"
          ]
        },
        {
          "output_type": "stream",
          "name": "stdout",
          "text": [
            "Epoch: 12 Train Loss: 2.0983270704746246 Val Loss: 2.17443542620715 Val Accuracy: 0.46564744849552725 Val F1: 0.030873939461698977\n"
          ]
        },
        {
          "output_type": "stream",
          "name": "stderr",
          "text": [
            "\r 14%|█▍        | 14/100 [00:48<04:55,  3.43s/it]"
          ]
        },
        {
          "output_type": "stream",
          "name": "stdout",
          "text": [
            "Epoch: 13 Train Loss: 2.0956783487516293 Val Loss: 2.2004389692755306 Val Accuracy: 0.4655505599417186 Val F1: 0.030871331669265003\n"
          ]
        },
        {
          "output_type": "stream",
          "name": "stderr",
          "text": [
            "\r 15%|█▌        | 15/100 [00:53<05:18,  3.74s/it]"
          ]
        },
        {
          "output_type": "stream",
          "name": "stdout",
          "text": [
            "Epoch: 14 Train Loss: 2.0952216956545326 Val Loss: 2.1911462124656227 Val Accuracy: 0.4653620772905937 Val F1: 0.03038351089125211\n"
          ]
        },
        {
          "output_type": "stream",
          "name": "stderr",
          "text": [
            "\r 16%|█▌        | 16/100 [00:57<05:34,  3.98s/it]"
          ]
        },
        {
          "output_type": "stream",
          "name": "stdout",
          "text": [
            "Epoch: 15 Train Loss: 2.089754350045148 Val Loss: 2.19591663164251 Val Accuracy: 0.465300132149634 Val F1: 0.031147292544020266\n"
          ]
        },
        {
          "output_type": "stream",
          "name": "stderr",
          "text": [
            "\r 17%|█▋        | 17/100 [01:00<05:10,  3.74s/it]"
          ]
        },
        {
          "output_type": "stream",
          "name": "stdout",
          "text": [
            "Epoch: 16 Train Loss: 2.084392586175133 Val Loss: 2.215751679504619 Val Accuracy: 0.4641279394822445 Val F1: 0.0313128279460712\n"
          ]
        },
        {
          "output_type": "stream",
          "name": "stderr",
          "text": [
            "\r 18%|█▊        | 18/100 [01:04<04:52,  3.57s/it]"
          ]
        },
        {
          "output_type": "stream",
          "name": "stdout",
          "text": [
            "Epoch: 17 Train Loss: 2.0847566145307876 Val Loss: 2.2237322470721077 Val Accuracy: 0.4637912120493359 Val F1: 0.03156484332587625\n"
          ]
        },
        {
          "output_type": "stream",
          "name": "stderr",
          "text": [
            "\r 19%|█▉        | 19/100 [01:07<04:40,  3.47s/it]"
          ]
        },
        {
          "output_type": "stream",
          "name": "stdout",
          "text": [
            "Epoch: 18 Train Loss: 2.0808235363048664 Val Loss: 2.220393917139839 Val Accuracy: 0.46390345452697207 Val F1: 0.03149896808261651\n"
          ]
        },
        {
          "output_type": "stream",
          "name": "stderr",
          "text": [
            "\r 19%|█▉        | 19/100 [01:09<04:55,  3.65s/it]\n"
          ]
        },
        {
          "output_type": "error",
          "ename": "KeyboardInterrupt",
          "evalue": "",
          "traceback": [
            "\u001b[0;31m---------------------------------------------------------------------------\u001b[0m",
            "\u001b[0;31mKeyboardInterrupt\u001b[0m                         Traceback (most recent call last)",
            "\u001b[0;32m<ipython-input-21-2e521fdf2fb6>\u001b[0m in \u001b[0;36m<cell line: 3>\u001b[0;34m()\u001b[0m\n\u001b[1;32m      2\u001b[0m \u001b[0;32mfrom\u001b[0m \u001b[0mtqdm\u001b[0m \u001b[0;32mimport\u001b[0m \u001b[0mtqdm\u001b[0m\u001b[0;34m\u001b[0m\u001b[0;34m\u001b[0m\u001b[0m\n\u001b[1;32m      3\u001b[0m \u001b[0;32mfor\u001b[0m \u001b[0mepoch\u001b[0m \u001b[0;32min\u001b[0m \u001b[0mtqdm\u001b[0m\u001b[0;34m(\u001b[0m\u001b[0mrange\u001b[0m\u001b[0;34m(\u001b[0m\u001b[0mepochs\u001b[0m\u001b[0;34m)\u001b[0m\u001b[0;34m)\u001b[0m\u001b[0;34m:\u001b[0m\u001b[0;34m\u001b[0m\u001b[0;34m\u001b[0m\u001b[0m\n\u001b[0;32m----> 4\u001b[0;31m     \u001b[0mtrain_loss\u001b[0m \u001b[0;34m=\u001b[0m \u001b[0mtrain\u001b[0m\u001b[0;34m(\u001b[0m\u001b[0mmodel\u001b[0m\u001b[0;34m,\u001b[0m\u001b[0mtrain_dataloader\u001b[0m\u001b[0;34m,\u001b[0m\u001b[0mcriterion\u001b[0m\u001b[0;34m,\u001b[0m\u001b[0moptimizer\u001b[0m\u001b[0;34m)\u001b[0m\u001b[0;34m\u001b[0m\u001b[0;34m\u001b[0m\u001b[0m\n\u001b[0m\u001b[1;32m      5\u001b[0m     \u001b[0mval_loss\u001b[0m\u001b[0;34m,\u001b[0m \u001b[0macc\u001b[0m\u001b[0;34m,\u001b[0m \u001b[0mf1\u001b[0m \u001b[0;34m=\u001b[0m \u001b[0mevaluate\u001b[0m\u001b[0;34m(\u001b[0m\u001b[0mmodel\u001b[0m\u001b[0;34m,\u001b[0m\u001b[0mval_dataloader\u001b[0m\u001b[0;34m,\u001b[0m\u001b[0mcriterion\u001b[0m\u001b[0;34m)\u001b[0m\u001b[0;34m\u001b[0m\u001b[0;34m\u001b[0m\u001b[0m\n\u001b[1;32m      6\u001b[0m     \u001b[0mprint\u001b[0m\u001b[0;34m(\u001b[0m\u001b[0;34mf'Epoch: {epoch} Train Loss: {train_loss} Val Loss: {val_loss} Val Accuracy: {acc} Val F1: {f1}'\u001b[0m\u001b[0;34m)\u001b[0m\u001b[0;34m\u001b[0m\u001b[0;34m\u001b[0m\u001b[0m\n",
            "\u001b[0;32m<ipython-input-19-a3bc7fd7abe0>\u001b[0m in \u001b[0;36mtrain\u001b[0;34m(model, dataloader, criterion, optimizer)\u001b[0m\n\u001b[1;32m      8\u001b[0m         \u001b[0mpred\u001b[0m \u001b[0;34m=\u001b[0m \u001b[0mmodel\u001b[0m\u001b[0;34m(\u001b[0m\u001b[0mvisual_feats\u001b[0m\u001b[0;34m,\u001b[0m\u001b[0mtext_feats\u001b[0m\u001b[0;34m)\u001b[0m\u001b[0;34m\u001b[0m\u001b[0;34m\u001b[0m\u001b[0m\n\u001b[1;32m      9\u001b[0m         \u001b[0mloss\u001b[0m \u001b[0;34m=\u001b[0m \u001b[0mcriterion\u001b[0m\u001b[0;34m(\u001b[0m\u001b[0mpred\u001b[0m\u001b[0;34m,\u001b[0m\u001b[0mlabels\u001b[0m\u001b[0;34m)\u001b[0m\u001b[0;34m\u001b[0m\u001b[0;34m\u001b[0m\u001b[0m\n\u001b[0;32m---> 10\u001b[0;31m         \u001b[0mtotal_loss\u001b[0m \u001b[0;34m+=\u001b[0m \u001b[0mloss\u001b[0m\u001b[0;34m.\u001b[0m\u001b[0mitem\u001b[0m\u001b[0;34m(\u001b[0m\u001b[0;34m)\u001b[0m\u001b[0;34m\u001b[0m\u001b[0;34m\u001b[0m\u001b[0m\n\u001b[0m\u001b[1;32m     11\u001b[0m         \u001b[0moptimizer\u001b[0m\u001b[0;34m.\u001b[0m\u001b[0mzero_grad\u001b[0m\u001b[0;34m(\u001b[0m\u001b[0;34m)\u001b[0m\u001b[0;34m\u001b[0m\u001b[0;34m\u001b[0m\u001b[0m\n\u001b[1;32m     12\u001b[0m         \u001b[0mloss\u001b[0m\u001b[0;34m.\u001b[0m\u001b[0mbackward\u001b[0m\u001b[0;34m(\u001b[0m\u001b[0;34m)\u001b[0m\u001b[0;34m\u001b[0m\u001b[0;34m\u001b[0m\u001b[0m\n",
            "\u001b[0;31mKeyboardInterrupt\u001b[0m: "
          ]
        }
      ],
      "source": [
        "epochs = 100\n",
        "from tqdm import tqdm\n",
        "for epoch in tqdm(range(epochs)):\n",
        "    train_loss = train(model,train_dataloader,criterion,optimizer)\n",
        "    val_loss, acc, f1 = evaluate(model,val_dataloader,criterion)\n",
        "    print(f'Epoch: {epoch} Train Loss: {train_loss} Val Loss: {val_loss} Val Accuracy: {acc} Val F1: {f1}')"
      ]
    },
    {
      "cell_type": "code",
      "source": [],
      "metadata": {
        "id": "jrSmo4jAMuHt"
      },
      "execution_count": null,
      "outputs": []
    }
  ],
  "metadata": {
    "kernelspec": {
      "display_name": "Python 3",
      "name": "python3"
    },
    "language_info": {
      "codemirror_mode": {
        "name": "ipython",
        "version": 3
      },
      "file_extension": ".py",
      "mimetype": "text/x-python",
      "name": "python",
      "nbconvert_exporter": "python",
      "pygments_lexer": "ipython3",
      "version": "3.9.21"
    },
    "colab": {
      "provenance": [],
      "gpuType": "T4"
    },
    "accelerator": "GPU"
  },
  "nbformat": 4,
  "nbformat_minor": 0
}
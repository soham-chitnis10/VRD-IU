{
 "cells": [
  {
   "cell_type": "code",
   "execution_count": null,
   "metadata": {},
   "outputs": [],
   "source": [
    "from google.colab import drive\n",
    "drive.mount('/content/drive')"
   ]
  },
  {
   "cell_type": "code",
   "execution_count": null,
   "metadata": {},
   "outputs": [],
   "source": [
    "%cd /content/drive/MyDrive/VRD-IU"
   ]
  },
  {
   "cell_type": "code",
   "execution_count": null,
   "metadata": {},
   "outputs": [],
   "source": [
    "!cp train_visual_features.pkl train_textual_features.pkl  obj_cat.csv /content/"
   ]
  },
  {
   "cell_type": "code",
   "execution_count": null,
   "metadata": {},
   "outputs": [],
   "source": [
    "%cd /content/"
   ]
  },
  {
   "cell_type": "code",
   "execution_count": 1,
   "metadata": {},
   "outputs": [],
   "source": [
    "from torch.utils.data import Dataset, DataLoader\n",
    "import pickle\n",
    "import dgl\n",
    "import os\n",
    "import torch\n",
    "import numpy as np\n",
    "import pandas as pd\n",
    "class FeatureDataset(Dataset):\n",
    "    def __init__(self, df,visual_feature_file, textual_feature_file):\n",
    "        super().__init__()\n",
    "        self.df = df\n",
    "        with open(visual_feature_file, 'rb') as f:\n",
    "            self.visual_features = pickle.load(f)\n",
    "        with open(textual_feature_file, 'rb') as f:\n",
    "            self.textual_features = pickle.load(f)\n",
    "\n",
    "    def __len__(self):\n",
    "        return len(self.df)\n",
    "\n",
    "    def __getitem__(self, index):\n",
    "        data = self.df.loc[index]\n",
    "        visual_feats = torch.tensor(list(self.visual_features[self.visual_features['id']==data['id']]['features']))\n",
    "        textual_feats = torch.tensor(list(self.textual_features[self.textual_features['id']==data['id']]['features']))\n",
    "        return visual_feats.squeeze(0), textual_feats.squeeze(0), data['class']\n"
   ]
  },
  {
   "cell_type": "code",
   "execution_count": 2,
   "metadata": {},
   "outputs": [],
   "source": [
    "df = pd.read_csv(\"obj_cat.csv\")\n",
    "from sklearn.model_selection import train_test_split\n",
    "train_df, val_df = train_test_split(df,test_size=0.2)"
   ]
  },
  {
   "cell_type": "code",
   "execution_count": 3,
   "metadata": {},
   "outputs": [],
   "source": [
    "train_df = train_df.reset_index(drop=True)\n",
    "val_df = val_df.reset_index(drop=True)"
   ]
  },
  {
   "cell_type": "code",
   "execution_count": 4,
   "metadata": {},
   "outputs": [],
   "source": [
    "train_dataset = FeatureDataset(train_df,\"train_visual_features.pkl\",\"train_textual_features.pkl\")"
   ]
  },
  {
   "cell_type": "code",
   "execution_count": 12,
   "metadata": {},
   "outputs": [],
   "source": [
    "val_dataset = FeatureDataset(val_df,\"train_visual_features.pkl\",\"train_textual_features.pkl\")"
   ]
  },
  {
   "cell_type": "code",
   "execution_count": 10,
   "metadata": {},
   "outputs": [],
   "source": [
    "train_dataloader = DataLoader(train_dataset,batch_size=32,shuffle=True,num_workers=8)"
   ]
  },
  {
   "cell_type": "code",
   "execution_count": 13,
   "metadata": {},
   "outputs": [],
   "source": [
    "val_dataloader = DataLoader(val_dataset,batch_size=32,shuffle=True,num_workers=8)"
   ]
  },
  {
   "cell_type": "code",
   "execution_count": 14,
   "metadata": {},
   "outputs": [],
   "source": [
    "import torch.nn as nn\n",
    "class Classifer(nn.Module):\n",
    "    def __init__(self, *args, **kwargs):\n",
    "        super().__init__(*args, **kwargs)\n",
    "        self.fuser =  nn.Sequential(nn.Linear(1536+768,3072),\n",
    "                                   nn.ReLU(),\n",
    "                                   nn.Linear(3072,768))\n",
    "        self.fc = nn.Linear(768,25)\n",
    "\n",
    "    def forward(self, visual_feats, text_feats):\n",
    "        embed = self.fuser(torch.cat((visual_feats,text_feats),dim=1))\n",
    "        pred = self.fc(embed)\n",
    "        return pred"
   ]
  },
  {
   "cell_type": "code",
   "execution_count": null,
   "metadata": {},
   "outputs": [],
   "source": [
    "from torch import optim\n",
    "model = Classifer()\n",
    "device = torch.device(\"cuda\")\n",
    "model.to(device)\n",
    "criterion = nn.CrossEntropyLoss()\n",
    "optimizer = optim.Adam(model.parameters(),lr=1e-3)"
   ]
  },
  {
   "cell_type": "code",
   "execution_count": null,
   "metadata": {},
   "outputs": [],
   "source": [
    "def train(model, dataloader, criterion, optimizer):\n",
    "    model.train()\n",
    "    total_loss = 0.0\n",
    "    for visual_feats, text_feats, labels in dataloader:\n",
    "        visual_feats = visual_feats.to(device)\n",
    "        text_feats = text_feats.to(device)\n",
    "        labels = labels.to(device)\n",
    "        pred = model(visual_feats,text_feats)\n",
    "        loss = criterion(pred,labels)\n",
    "        total_loss += loss.item()\n",
    "        optimizer.zero_grad()\n",
    "        loss.backward()\n",
    "        optimizer.step()\n",
    "    return total_loss/len(dataloader)\n"
   ]
  },
  {
   "cell_type": "code",
   "execution_count": null,
   "metadata": {},
   "outputs": [],
   "source": [
    "from sklearn.metrics import f1_score, accuracy_score\n",
    "def evaluate(model, dataloader, criterion):\n",
    "    model.eval()\n",
    "    total_loss = 0.0\n",
    "    total_acc = 0.0\n",
    "    total_f1 = 0.0\n",
    "    with torch.no_grad():\n",
    "        for visual_feats, text_feats, labels in dataloader:\n",
    "            visual_feats = visual_feats.to(device)\n",
    "            text_feats = text_feats.to(device)\n",
    "            labels = labels.to(device)\n",
    "            pred = model(visual_feats,text_feats)\n",
    "            loss = criterion(pred,labels)\n",
    "            total_loss += loss.item()\n",
    "            predicted_labels = pred.argmax(dim=1)\n",
    "            f1 = f1_score(labels.detach().cpu().numpy(), predicted_labels.detach().cpu().numpy())\n",
    "            acc = accuracy_score(labels.detach().cpu().numpy(), predicted_labels.detach().cpu().numpy())\n",
    "            total_f1+=f1\n",
    "            total_acc+=acc\n",
    "\n",
    "    return total_loss/len(dataloader),total_acc/len(dataloader),total_f1/len(dataloader)"
   ]
  },
  {
   "cell_type": "code",
   "execution_count": null,
   "metadata": {},
   "outputs": [],
   "source": [
    "epochs = 100\n",
    "for epoch in range(epochs):\n",
    "    train_loss = train(model,train_dataloader,criterion,optimizer)\n",
    "    val_loss, acc, f1 = evaluate(model,val_dataloader,criterion)\n",
    "    print(f'Epoch: {epoch} Train Loss: {train_loss} Val Loss: {val_loss} Val Accuracy: {acc} Val F1: {f1}')"
   ]
  }
 ],
 "metadata": {
  "kernelspec": {
   "display_name": "vrd-iu",
   "language": "python",
   "name": "python3"
  },
  "language_info": {
   "codemirror_mode": {
    "name": "ipython",
    "version": 3
   },
   "file_extension": ".py",
   "mimetype": "text/x-python",
   "name": "python",
   "nbconvert_exporter": "python",
   "pygments_lexer": "ipython3",
   "version": "3.9.21"
  }
 },
 "nbformat": 4,
 "nbformat_minor": 2
}

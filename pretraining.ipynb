{
  "cells": [
    {
      "cell_type": "markdown",
      "metadata": {
        "id": "view-in-github",
        "colab_type": "text"
      },
      "source": [
        "<a href=\"https://colab.research.google.com/github/soham-chitnis10/VRD-IU/blob/main/pretraining.ipynb\" target=\"_parent\"><img src=\"https://colab.research.google.com/assets/colab-badge.svg\" alt=\"Open In Colab\"/></a>"
      ]
    },
    {
      "cell_type": "code",
      "source": [
        "from google.colab import drive\n",
        "drive.mount('/content/drive')"
      ],
      "metadata": {
        "id": "SgW2XBOoTojc",
        "outputId": "a8bc06c4-df12-43ee-9ac6-f090dae63dec",
        "colab": {
          "base_uri": "https://localhost:8080/"
        }
      },
      "execution_count": 1,
      "outputs": [
        {
          "output_type": "stream",
          "name": "stdout",
          "text": [
            "Drive already mounted at /content/drive; to attempt to forcibly remount, call drive.mount(\"/content/drive\", force_remount=True).\n"
          ]
        }
      ]
    },
    {
      "cell_type": "code",
      "source": [
        "%cd /content/drive/MyDrive/VRD-IU"
      ],
      "metadata": {
        "id": "-Ic5J_5pTypO",
        "outputId": "ad756b65-47a6-4c04-fc4c-eaff5f2d3913",
        "colab": {
          "base_uri": "https://localhost:8080/"
        }
      },
      "execution_count": 2,
      "outputs": [
        {
          "output_type": "stream",
          "name": "stdout",
          "text": [
            "/content/drive/MyDrive/VRD-IU\n"
          ]
        }
      ]
    },
    {
      "cell_type": "code",
      "execution_count": 3,
      "metadata": {
        "id": "P5GZkbIrTXoy"
      },
      "outputs": [],
      "source": [
        "from torch.utils.data import Dataset, DataLoader\n",
        "from PIL import Image\n",
        "import os\n",
        "import torchvision.transforms as transforms\n",
        "import pickle\n",
        "from transformers import AutoImageProcessor, AutoTokenizer\n",
        "class CompDataset(Dataset):\n",
        "    def __init__(self, pickle_file,image_path_root):\n",
        "        super().__init__()\n",
        "        with open(pickle_file, 'rb') as file:\n",
        "            data = pickle.load(file)\n",
        "        self.components = []\n",
        "        self.image_paths = []\n",
        "        for k in data.keys():\n",
        "            self.components.extend(data[k]['components'])\n",
        "            self.image_paths.extend([ f\"{os.path.join(image_path_root,k)}_page-{comp['page']}.png\" for comp in data[k]['components']])\n",
        "\n",
        "    def __len__(self):\n",
        "        return len(self.components)\n",
        "\n",
        "    def __getitem__(self, index):\n",
        "        comp = self.components[index]\n",
        "        img = Image.open(self.image_paths[index]).convert(\"RGB\")\n",
        "        bbox = comp['bbox']\n",
        "        cropped_img = transforms.functional.crop(img,top=bbox[1],left=bbox[0],height=bbox[3],width=bbox[2])\n",
        "        try:\n",
        "            text = comp['text']\n",
        "        except:\n",
        "            text = comp['category']\n",
        "        return (cropped_img, text, comp['category_id'])"
      ]
    },
    {
      "cell_type": "code",
      "execution_count": 4,
      "metadata": {
        "id": "NbAx9uCdTXo1"
      },
      "outputs": [],
      "source": [
        "import torch\n",
        "def collate_fn(batch):\n",
        "    images = [e[0] for e in batch]\n",
        "    text = [e[1] for e in batch]\n",
        "    labels = torch.tensor([e[2] for e in batch], dtype=torch.long)\n",
        "    return (images, text, labels)"
      ]
    },
    {
      "cell_type": "code",
      "execution_count": 5,
      "metadata": {
        "id": "mq9OUD5STXo3"
      },
      "outputs": [],
      "source": [
        "train_dataset = CompDataset('train_data.pkl','train/train')\n",
        "val_dataset = CompDataset('val_data.pkl','val/val')\n",
        "train_dataloader = DataLoader(train_dataset,batch_size=4, shuffle=True,collate_fn=collate_fn)\n",
        "val_dataloader = DataLoader(val_dataset,batch_size=4,collate_fn=collate_fn)"
      ]
    },
    {
      "cell_type": "code",
      "execution_count": 6,
      "metadata": {
        "id": "PEyDFmGTTXo4",
        "outputId": "37b2c732-fc2e-4a53-c82e-05fafa28fd62",
        "colab": {
          "base_uri": "https://localhost:8080/"
        }
      },
      "outputs": [
        {
          "output_type": "stream",
          "name": "stderr",
          "text": [
            "/usr/local/lib/python3.10/dist-packages/huggingface_hub/utils/_auth.py:94: UserWarning: \n",
            "The secret `HF_TOKEN` does not exist in your Colab secrets.\n",
            "To authenticate with the Hugging Face Hub, create a token in your settings tab (https://huggingface.co/settings/tokens), set it as secret in your Google Colab and restart your session.\n",
            "You will be able to reuse this secret in all of your notebooks.\n",
            "Please note that authentication is recommended but still optional to access public models or datasets.\n",
            "  warnings.warn(\n"
          ]
        }
      ],
      "source": [
        "image_processor = AutoImageProcessor.from_pretrained(\"nielsr/donut-base\")\n",
        "tokenizer = AutoTokenizer.from_pretrained(\"FacebookAI/xlm-roberta-base\")"
      ]
    },
    {
      "cell_type": "code",
      "execution_count": 7,
      "metadata": {
        "id": "HfzZlANkTXo5"
      },
      "outputs": [],
      "source": [
        "import torch.nn as nn\n",
        "from transformers import XLMRobertaModel, DonutSwinModel\n",
        "class FusionLayer(nn.Module):\n",
        "    def __init__(self, visual_dim, text_dim, num_heads=4):\n",
        "        super().__init__()\n",
        "        self.visual_dim = visual_dim\n",
        "        self.text_dim = text_dim\n",
        "        self.mhsa = nn.MultiheadAttention(self.visual_dim,num_heads,kdim=text_dim,batch_first=True)\n",
        "        self.fc = nn.Sequential(nn.Linear(self.visual_dim,self.visual_dim*2),nn.GELU(),nn.Linear(self.visual_dim*2,self.visual_dim))\n",
        "        self.layer_norm = nn.LayerNorm(self.visual_dim)\n",
        "\n",
        "    def forward(self, visual_embedding, textual_embedding):\n",
        "        visual_embedding = visual_embedding.unsqueeze(1)\n",
        "        textual_embedding = textual_embedding.unsqueeze(1)\n",
        "        self.mhsa.to(visual_embedding.device)\n",
        "        fused_embed,_ = self.mhsa(visual_embedding,textual_embedding,visual_embedding)\n",
        "        normalize_fused_embed = self.layer_norm(fused_embed.squeeze(1)) + visual_embedding.squeeze(1)\n",
        "        layer_embed = self.layer_norm(self.fc(normalize_fused_embed)) + normalize_fused_embed\n",
        "        return layer_embed\n",
        "\n",
        "class FusionAttentionModule(nn.Module):\n",
        "    def __init__(self, visual_dim, text_dim, num_layers = 3):\n",
        "        super().__init__()\n",
        "        self.fusion_layers = nn.ModuleList([FusionLayer(visual_dim,text_dim) for _ in range(num_layers)])\n",
        "\n",
        "    def forward(self, visual_embedding, textual_embedding):\n",
        "        for layer in self.fusion_layers:\n",
        "          visual_embedding = layer(visual_embedding,textual_embedding)\n",
        "        return visual_embedding\n",
        "\n",
        "\n",
        "class ComponentEncoder(nn.Module):\n",
        "    def __init__(self,num_layers=3,freeze_visual=True, freeze_textual=True):\n",
        "        super().__init__()\n",
        "        self.visual_encoder = DonutSwinModel.from_pretrained(\"./donut_encoder\")\n",
        "        self.textual_encoder = XLMRobertaModel.from_pretrained(\"FacebookAI/xlm-roberta-base\")\n",
        "        if freeze_visual:\n",
        "            for p in self.visual_encoder.parameters():\n",
        "                p.requires_grad = False\n",
        "        if freeze_textual:\n",
        "            for p in self.textual_encoder.parameters():\n",
        "                p.requires_grad = False\n",
        "        self.fusion_module = FusionAttentionModule(self.visual_encoder.config.hidden_size,self.textual_encoder.config.hidden_size,num_layers)\n",
        "\n",
        "    def forward(self, image_inputs, text_inputs):\n",
        "        visual_embedding = self.visual_encoder(**image_inputs).pooler_output\n",
        "        textual_embedding = self.textual_encoder(**text_inputs).pooler_output\n",
        "        fused_embedding = self.fusion_module(visual_embedding,textual_embedding)\n",
        "        return fused_embedding\n",
        "\n",
        "class ComponentDect(nn.Module):\n",
        "    def __init__(self, num_classes,num_layers=3,freeze_visual=True, freeze_textual=True,*args, **kwargs):\n",
        "        super().__init__(*args, **kwargs)\n",
        "        self.encoder = ComponentEncoder(num_layers,freeze_visual, freeze_textual)\n",
        "        self.fc = nn.Linear(self.encoder.visual_encoder.config.hidden_size,num_classes)\n",
        "\n",
        "    def forward(self, image_inputs, text_inputs):\n",
        "        embed = self.encoder(image_inputs, text_inputs)\n",
        "        pred = self.fc(embed)\n",
        "        return pred\n"
      ]
    },
    {
      "cell_type": "code",
      "execution_count": 8,
      "metadata": {
        "id": "2uL0C-NUTXo6"
      },
      "outputs": [],
      "source": [
        "import torch\n",
        "model = ComponentDect(num_classes=25,num_layers=1,freeze_textual=True, freeze_visual=True)\n",
        "device = torch.device(\"cuda\" if torch.cuda.is_available() else \"cpu\")\n",
        "model = model.to(device)"
      ]
    },
    {
      "cell_type": "code",
      "execution_count": 9,
      "metadata": {
        "id": "7H1NvtRVTXo8"
      },
      "outputs": [],
      "source": [
        "from torch import optim\n",
        "epochs = 50\n",
        "optimizer = optim.AdamW(model.parameters(), lr=1e-3,weight_decay=1e-5)\n",
        "scheduler = optim.lr_scheduler.CosineAnnealingLR(optimizer,epochs,eta_min=1e-5,)"
      ]
    },
    {
      "cell_type": "code",
      "execution_count": 10,
      "metadata": {
        "id": "ueBKiXBQTXo9"
      },
      "outputs": [],
      "source": [
        "def focal_loss(pred, targets, alpha=0.25, gamma=2.0):\n",
        "    log_prob = torch.log_softmax(pred,dim=1)\n",
        "    one_hot_target = nn.functional.one_hot(targets,log_prob.shape[1])\n",
        "    weight = alpha*torch.pow(1- log_prob.exp(),gamma)\n",
        "    loss = torch.mean((-1*weight*log_prob)*one_hot_target)\n",
        "    return loss\n",
        ""
      ]
    },
    {
      "cell_type": "code",
      "execution_count": 11,
      "metadata": {
        "id": "rx1ztdStTXo-"
      },
      "outputs": [],
      "source": [
        "from tqdm import tqdm\n",
        "def train(model,train_dataloader, criterion, optimizer, image_processor, tokenizer, device):\n",
        "    total_loss = 0\n",
        "    model.train()\n",
        "    for (images, texts, labels) in tqdm(train_dataloader):\n",
        "        image_inputs = image_processor(images, return_tensors=\"pt\").to(device)\n",
        "        text_inputs = tokenizer(texts, return_tensors=\"pt\", padding=True, truncation=True).to(device)\n",
        "        labels = labels.to(device)\n",
        "        pred = model(image_inputs,text_inputs)\n",
        "        loss = criterion(pred,labels)\n",
        "        total_loss += loss.item()\n",
        "        optimizer.zero_grad()\n",
        "        loss.backward()\n",
        "        optimizer.step()\n",
        "    return loss/len(train_dataloader)\n",
        "\n"
      ]
    },
    {
      "cell_type": "code",
      "execution_count": 12,
      "metadata": {
        "id": "l6mP_cvlTXo-"
      },
      "outputs": [],
      "source": [
        "from sklearn.metrics import f1_score,accuracy_score\n",
        "def val(model,val_dataloader, criterion, image_processor, tokenizer, device):\n",
        "    total_loss = 0\n",
        "    model.eval()\n",
        "    predictions = []\n",
        "    all_labels = []\n",
        "    with torch.no_grad():\n",
        "        for (images, texts, labels) in tqdm(val_dataloader):\n",
        "            image_inputs = image_processor(images, return_tensors=\"pt\").to(device)\n",
        "            text_inputs = tokenizer(texts, return_tensors=\"pt\", padding=True, truncation=True).to(device)\n",
        "            labels = labels.to(device)\n",
        "            pred = model(image_inputs,text_inputs)\n",
        "            loss = criterion(pred,labels)\n",
        "            total_loss += loss.item()\n",
        "            pred_classes = torch.argmax(pred,dim=1)\n",
        "            predictions.append(pred_classes.detach().cpu())\n",
        "            all_labels.append(labels.detach().cpu())\n",
        "    predictions = torch.concat(predictions,dim=0)\n",
        "    all_labels = torch.concat(all_labels,dim=0)\n",
        "    f1 = f1_score(all_labels.numpy(), predictions.numpy())\n",
        "    acc =accuracy_score(all_labels.numpy(), predictions.numpy())\n",
        "    return loss/len(train_dataloader), f1, acc"
      ]
    },
    {
      "cell_type": "code",
      "execution_count": 13,
      "metadata": {
        "collapsed": true,
        "id": "ZyTAR5ORTXo_",
        "outputId": "d0a6dc17-3b4d-4be9-fecb-18861013aa67",
        "colab": {
          "base_uri": "https://localhost:8080/",
          "height": 1000
        }
      },
      "outputs": [
        {
          "output_type": "stream",
          "name": "stderr",
          "text": [
            "  0%|          | 0/50 [00:00<?, ?it/s]\n",
            "  0%|          | 0/10832 [00:00<?, ?it/s]\u001b[A\n",
            "  0%|          | 1/10832 [00:11<35:22:27, 11.76s/it]\u001b[A\n",
            "  0%|          | 2/10832 [00:22<34:11:31, 11.37s/it]\u001b[A\n",
            "  0%|          | 3/10832 [00:32<32:01:04, 10.64s/it]\u001b[A\n",
            "  0%|          | 4/10832 [00:43<31:42:54, 10.54s/it]\u001b[A\n",
            "  0%|          | 5/10832 [00:52<30:13:08, 10.05s/it]\u001b[A\n",
            "  0%|          | 6/10832 [01:03<31:38:33, 10.52s/it]\u001b[A\n",
            "  0%|          | 7/10832 [01:13<31:14:48, 10.39s/it]\u001b[A\n",
            "  0%|          | 8/10832 [01:25<32:05:52, 10.68s/it]\u001b[A\n",
            "  0%|          | 9/10832 [01:35<31:38:16, 10.52s/it]\u001b[A\n",
            "  0%|          | 10/10832 [01:46<32:00:31, 10.65s/it]\u001b[A\n",
            "  0%|          | 11/10832 [01:57<32:22:15, 10.77s/it]\u001b[A\n",
            "  0%|          | 12/10832 [02:06<31:15:08, 10.40s/it]\u001b[A\n",
            "  0%|          | 13/10832 [02:16<30:40:42, 10.21s/it]\u001b[A\n",
            "  0%|          | 14/10832 [02:25<29:27:00,  9.80s/it]\u001b[A\n",
            "  0%|          | 15/10832 [02:37<31:29:05, 10.48s/it]\u001b[A\n",
            "  0%|          | 16/10832 [02:46<29:59:57,  9.98s/it]\u001b[A\n",
            "  0%|          | 17/10832 [02:56<29:45:55,  9.91s/it]\u001b[A\n",
            "  0%|          | 18/10832 [03:05<29:36:07,  9.85s/it]\u001b[A\n",
            "  0%|          | 19/10832 [03:17<31:32:07, 10.50s/it]\u001b[A\n",
            "  0%|          | 20/10832 [03:28<31:35:19, 10.52s/it]\u001b[A\n",
            "  0%|          | 21/10832 [03:39<32:25:50, 10.80s/it]\u001b[A\n",
            "  0%|          | 22/10832 [03:50<32:48:06, 10.92s/it]\u001b[A\n",
            "  0%|          | 23/10832 [04:00<31:49:33, 10.60s/it]\u001b[A\n",
            "  0%|          | 24/10832 [04:12<33:08:54, 11.04s/it]\u001b[A\n",
            "  0%|          | 25/10832 [04:26<35:25:20, 11.80s/it]\u001b[A\n",
            "  0%|          | 26/10832 [04:37<34:42:26, 11.56s/it]\u001b[A\n",
            "  0%|          | 27/10832 [04:48<33:53:36, 11.29s/it]\u001b[A\n",
            "  0%|          | 28/10832 [05:00<34:32:06, 11.51s/it]\u001b[A\n",
            "  0%|          | 29/10832 [05:10<33:47:20, 11.26s/it]\u001b[A\n",
            "  0%|          | 30/10832 [05:20<32:40:39, 10.89s/it]\u001b[A\n",
            "  0%|          | 31/10832 [05:33<34:26:58, 11.48s/it]\u001b[A\n",
            "  0%|          | 32/10832 [05:46<35:30:07, 11.83s/it]\u001b[A\n",
            "  0%|          | 33/10832 [05:57<35:14:10, 11.75s/it]\u001b[A\n",
            "  0%|          | 34/10832 [06:07<33:13:35, 11.08s/it]\u001b[A\n",
            "  0%|          | 35/10832 [06:18<33:31:06, 11.18s/it]\u001b[A\n",
            "  0%|          | 36/10832 [06:29<32:38:09, 10.88s/it]\u001b[A\n",
            "  0%|          | 37/10832 [06:39<32:09:33, 10.72s/it]\u001b[A\n",
            "  0%|          | 38/10832 [06:51<33:14:36, 11.09s/it]\u001b[A\n",
            "  0%|          | 39/10832 [07:01<32:24:06, 10.81s/it]\u001b[A\n",
            "  0%|          | 40/10832 [07:11<31:16:04, 10.43s/it]\u001b[A\n",
            "  0%|          | 41/10832 [07:20<30:36:01, 10.21s/it]\u001b[A\n",
            "  0%|          | 42/10832 [07:32<31:44:52, 10.59s/it]\u001b[A\n",
            "  0%|          | 43/10832 [07:41<30:13:24, 10.08s/it]\u001b[A\n",
            "  0%|          | 44/10832 [07:51<30:23:14, 10.14s/it]\u001b[A\n",
            "  0%|          | 45/10832 [08:01<30:24:42, 10.15s/it]\u001b[A\n",
            "  0%|          | 46/10832 [08:12<31:02:28, 10.36s/it]\u001b[A\n",
            "  0%|          | 47/10832 [08:24<32:25:29, 10.82s/it]\u001b[A\n",
            "  0%|          | 48/10832 [08:35<32:24:18, 10.82s/it]\u001b[A\n",
            "  0%|          | 49/10832 [08:45<31:38:01, 10.56s/it]\u001b[A\n",
            "  0%|          | 50/10832 [08:55<31:23:58, 10.48s/it]\u001b[A\n",
            "  0%|          | 51/10832 [09:06<31:34:43, 10.54s/it]\u001b[A\n",
            "  0%|          | 52/10832 [09:18<33:22:17, 11.14s/it]\u001b[A\n",
            "  0%|          | 53/10832 [09:28<32:19:06, 10.79s/it]\u001b[A\n",
            "  0%|          | 54/10832 [09:42<32:17:12, 10.78s/it]\n",
            "  0%|          | 0/50 [09:42<?, ?it/s]\n"
          ]
        },
        {
          "output_type": "error",
          "ename": "KeyboardInterrupt",
          "evalue": "",
          "traceback": [
            "\u001b[0;31m---------------------------------------------------------------------------\u001b[0m",
            "\u001b[0;31mKeyboardInterrupt\u001b[0m                         Traceback (most recent call last)",
            "\u001b[0;32m<ipython-input-13-21adca129964>\u001b[0m in \u001b[0;36m<cell line: 1>\u001b[0;34m()\u001b[0m\n\u001b[1;32m      1\u001b[0m \u001b[0;32mfor\u001b[0m \u001b[0mepoch\u001b[0m \u001b[0;32min\u001b[0m \u001b[0mtqdm\u001b[0m\u001b[0;34m(\u001b[0m\u001b[0mrange\u001b[0m\u001b[0;34m(\u001b[0m\u001b[0mepochs\u001b[0m\u001b[0;34m)\u001b[0m\u001b[0;34m)\u001b[0m\u001b[0;34m:\u001b[0m\u001b[0;34m\u001b[0m\u001b[0;34m\u001b[0m\u001b[0m\n\u001b[0;32m----> 2\u001b[0;31m     \u001b[0mtrain_loss\u001b[0m \u001b[0;34m=\u001b[0m \u001b[0mtrain\u001b[0m\u001b[0;34m(\u001b[0m\u001b[0mmodel\u001b[0m\u001b[0;34m,\u001b[0m\u001b[0mtrain_dataloader\u001b[0m\u001b[0;34m,\u001b[0m\u001b[0mfocal_loss\u001b[0m\u001b[0;34m,\u001b[0m\u001b[0moptimizer\u001b[0m\u001b[0;34m,\u001b[0m\u001b[0mimage_processor\u001b[0m\u001b[0;34m,\u001b[0m\u001b[0mtokenizer\u001b[0m\u001b[0;34m,\u001b[0m\u001b[0mdevice\u001b[0m\u001b[0;34m)\u001b[0m\u001b[0;34m\u001b[0m\u001b[0;34m\u001b[0m\u001b[0m\n\u001b[0m\u001b[1;32m      3\u001b[0m     \u001b[0mval_loss\u001b[0m\u001b[0;34m,\u001b[0m \u001b[0mf1\u001b[0m\u001b[0;34m,\u001b[0m \u001b[0macc\u001b[0m \u001b[0;34m=\u001b[0m \u001b[0mval\u001b[0m\u001b[0;34m(\u001b[0m\u001b[0mmodel\u001b[0m\u001b[0;34m,\u001b[0m\u001b[0mval_dataloader\u001b[0m\u001b[0;34m,\u001b[0m\u001b[0mfocal_loss\u001b[0m\u001b[0;34m,\u001b[0m\u001b[0mimage_processor\u001b[0m\u001b[0;34m,\u001b[0m\u001b[0mtokenizer\u001b[0m\u001b[0;34m,\u001b[0m\u001b[0mdevice\u001b[0m\u001b[0;34m)\u001b[0m\u001b[0;34m\u001b[0m\u001b[0;34m\u001b[0m\u001b[0m\n\u001b[1;32m      4\u001b[0m     \u001b[0mprint\u001b[0m\u001b[0;34m(\u001b[0m\u001b[0;34mf'Epoch: {epoch} Train Loss: {train_loss} Val Loss: {val_loss} F1 score: {f1} Accuracy: {acc}'\u001b[0m\u001b[0;34m)\u001b[0m\u001b[0;34m\u001b[0m\u001b[0;34m\u001b[0m\u001b[0m\n\u001b[1;32m      5\u001b[0m     \u001b[0mscheduler\u001b[0m\u001b[0;34m.\u001b[0m\u001b[0mstep\u001b[0m\u001b[0;34m(\u001b[0m\u001b[0;34m)\u001b[0m\u001b[0;34m\u001b[0m\u001b[0;34m\u001b[0m\u001b[0m\n",
            "\u001b[0;32m<ipython-input-11-ff40f7c71830>\u001b[0m in \u001b[0;36mtrain\u001b[0;34m(model, train_dataloader, criterion, optimizer, image_processor, tokenizer, device)\u001b[0m\n\u001b[1;32m      4\u001b[0m     \u001b[0mmodel\u001b[0m\u001b[0;34m.\u001b[0m\u001b[0mtrain\u001b[0m\u001b[0;34m(\u001b[0m\u001b[0;34m)\u001b[0m\u001b[0;34m\u001b[0m\u001b[0;34m\u001b[0m\u001b[0m\n\u001b[1;32m      5\u001b[0m     \u001b[0;32mfor\u001b[0m \u001b[0;34m(\u001b[0m\u001b[0mimages\u001b[0m\u001b[0;34m,\u001b[0m \u001b[0mtexts\u001b[0m\u001b[0;34m,\u001b[0m \u001b[0mlabels\u001b[0m\u001b[0;34m)\u001b[0m \u001b[0;32min\u001b[0m \u001b[0mtqdm\u001b[0m\u001b[0;34m(\u001b[0m\u001b[0mtrain_dataloader\u001b[0m\u001b[0;34m)\u001b[0m\u001b[0;34m:\u001b[0m\u001b[0;34m\u001b[0m\u001b[0;34m\u001b[0m\u001b[0m\n\u001b[0;32m----> 6\u001b[0;31m         \u001b[0mimage_inputs\u001b[0m \u001b[0;34m=\u001b[0m \u001b[0mimage_processor\u001b[0m\u001b[0;34m(\u001b[0m\u001b[0mimages\u001b[0m\u001b[0;34m,\u001b[0m \u001b[0mreturn_tensors\u001b[0m\u001b[0;34m=\u001b[0m\u001b[0;34m\"pt\"\u001b[0m\u001b[0;34m)\u001b[0m\u001b[0;34m.\u001b[0m\u001b[0mto\u001b[0m\u001b[0;34m(\u001b[0m\u001b[0mdevice\u001b[0m\u001b[0;34m)\u001b[0m\u001b[0;34m\u001b[0m\u001b[0;34m\u001b[0m\u001b[0m\n\u001b[0m\u001b[1;32m      7\u001b[0m         \u001b[0mtext_inputs\u001b[0m \u001b[0;34m=\u001b[0m \u001b[0mtokenizer\u001b[0m\u001b[0;34m(\u001b[0m\u001b[0mtexts\u001b[0m\u001b[0;34m,\u001b[0m \u001b[0mreturn_tensors\u001b[0m\u001b[0;34m=\u001b[0m\u001b[0;34m\"pt\"\u001b[0m\u001b[0;34m,\u001b[0m \u001b[0mpadding\u001b[0m\u001b[0;34m=\u001b[0m\u001b[0;32mTrue\u001b[0m\u001b[0;34m,\u001b[0m \u001b[0mtruncation\u001b[0m\u001b[0;34m=\u001b[0m\u001b[0;32mTrue\u001b[0m\u001b[0;34m)\u001b[0m\u001b[0;34m.\u001b[0m\u001b[0mto\u001b[0m\u001b[0;34m(\u001b[0m\u001b[0mdevice\u001b[0m\u001b[0;34m)\u001b[0m\u001b[0;34m\u001b[0m\u001b[0;34m\u001b[0m\u001b[0m\n\u001b[1;32m      8\u001b[0m         \u001b[0mlabels\u001b[0m \u001b[0;34m=\u001b[0m \u001b[0mlabels\u001b[0m\u001b[0;34m.\u001b[0m\u001b[0mto\u001b[0m\u001b[0;34m(\u001b[0m\u001b[0mdevice\u001b[0m\u001b[0;34m)\u001b[0m\u001b[0;34m\u001b[0m\u001b[0;34m\u001b[0m\u001b[0m\n",
            "\u001b[0;32m/usr/local/lib/python3.10/dist-packages/transformers/image_processing_utils.py\u001b[0m in \u001b[0;36m__call__\u001b[0;34m(self, images, **kwargs)\u001b[0m\n\u001b[1;32m     39\u001b[0m     \u001b[0;32mdef\u001b[0m \u001b[0m__call__\u001b[0m\u001b[0;34m(\u001b[0m\u001b[0mself\u001b[0m\u001b[0;34m,\u001b[0m \u001b[0mimages\u001b[0m\u001b[0;34m,\u001b[0m \u001b[0;34m**\u001b[0m\u001b[0mkwargs\u001b[0m\u001b[0;34m)\u001b[0m \u001b[0;34m->\u001b[0m \u001b[0mBatchFeature\u001b[0m\u001b[0;34m:\u001b[0m\u001b[0;34m\u001b[0m\u001b[0;34m\u001b[0m\u001b[0m\n\u001b[1;32m     40\u001b[0m         \u001b[0;34m\"\"\"Preprocess an image or a batch of images.\"\"\"\u001b[0m\u001b[0;34m\u001b[0m\u001b[0;34m\u001b[0m\u001b[0m\n\u001b[0;32m---> 41\u001b[0;31m         \u001b[0;32mreturn\u001b[0m \u001b[0mself\u001b[0m\u001b[0;34m.\u001b[0m\u001b[0mpreprocess\u001b[0m\u001b[0;34m(\u001b[0m\u001b[0mimages\u001b[0m\u001b[0;34m,\u001b[0m \u001b[0;34m**\u001b[0m\u001b[0mkwargs\u001b[0m\u001b[0;34m)\u001b[0m\u001b[0;34m\u001b[0m\u001b[0;34m\u001b[0m\u001b[0m\n\u001b[0m\u001b[1;32m     42\u001b[0m \u001b[0;34m\u001b[0m\u001b[0m\n\u001b[1;32m     43\u001b[0m     \u001b[0;32mdef\u001b[0m \u001b[0mpreprocess\u001b[0m\u001b[0;34m(\u001b[0m\u001b[0mself\u001b[0m\u001b[0;34m,\u001b[0m \u001b[0mimages\u001b[0m\u001b[0;34m,\u001b[0m \u001b[0;34m**\u001b[0m\u001b[0mkwargs\u001b[0m\u001b[0;34m)\u001b[0m \u001b[0;34m->\u001b[0m \u001b[0mBatchFeature\u001b[0m\u001b[0;34m:\u001b[0m\u001b[0;34m\u001b[0m\u001b[0;34m\u001b[0m\u001b[0m\n",
            "\u001b[0;32m/usr/local/lib/python3.10/dist-packages/transformers/utils/generic.py\u001b[0m in \u001b[0;36mwrapper\u001b[0;34m(*args, **kwargs)\u001b[0m\n\u001b[1;32m    850\u001b[0m                 )\n\u001b[1;32m    851\u001b[0m \u001b[0;34m\u001b[0m\u001b[0m\n\u001b[0;32m--> 852\u001b[0;31m             \u001b[0;32mreturn\u001b[0m \u001b[0mfunc\u001b[0m\u001b[0;34m(\u001b[0m\u001b[0;34m*\u001b[0m\u001b[0margs\u001b[0m\u001b[0;34m,\u001b[0m \u001b[0;34m**\u001b[0m\u001b[0mvalid_kwargs\u001b[0m\u001b[0;34m)\u001b[0m\u001b[0;34m\u001b[0m\u001b[0;34m\u001b[0m\u001b[0m\n\u001b[0m\u001b[1;32m    853\u001b[0m \u001b[0;34m\u001b[0m\u001b[0m\n\u001b[1;32m    854\u001b[0m         \u001b[0;32mreturn\u001b[0m \u001b[0mwrapper\u001b[0m\u001b[0;34m\u001b[0m\u001b[0;34m\u001b[0m\u001b[0m\n",
            "\u001b[0;32m/usr/local/lib/python3.10/dist-packages/transformers/models/donut/image_processing_donut.py\u001b[0m in \u001b[0;36mpreprocess\u001b[0;34m(self, images, do_resize, size, resample, do_thumbnail, do_align_long_axis, do_pad, random_padding, do_rescale, rescale_factor, do_normalize, image_mean, image_std, return_tensors, data_format, input_data_format)\u001b[0m\n\u001b[1;32m    424\u001b[0m \u001b[0;34m\u001b[0m\u001b[0m\n\u001b[1;32m    425\u001b[0m         \u001b[0;32mif\u001b[0m \u001b[0mdo_resize\u001b[0m\u001b[0;34m:\u001b[0m\u001b[0;34m\u001b[0m\u001b[0;34m\u001b[0m\u001b[0m\n\u001b[0;32m--> 426\u001b[0;31m             images = [\n\u001b[0m\u001b[1;32m    427\u001b[0m                 \u001b[0mself\u001b[0m\u001b[0;34m.\u001b[0m\u001b[0mresize\u001b[0m\u001b[0;34m(\u001b[0m\u001b[0mimage\u001b[0m\u001b[0;34m=\u001b[0m\u001b[0mimage\u001b[0m\u001b[0;34m,\u001b[0m \u001b[0msize\u001b[0m\u001b[0;34m=\u001b[0m\u001b[0msize\u001b[0m\u001b[0;34m,\u001b[0m \u001b[0mresample\u001b[0m\u001b[0;34m=\u001b[0m\u001b[0mresample\u001b[0m\u001b[0;34m,\u001b[0m \u001b[0minput_data_format\u001b[0m\u001b[0;34m=\u001b[0m\u001b[0minput_data_format\u001b[0m\u001b[0;34m)\u001b[0m\u001b[0;34m\u001b[0m\u001b[0;34m\u001b[0m\u001b[0m\n\u001b[1;32m    428\u001b[0m                 \u001b[0;32mfor\u001b[0m \u001b[0mimage\u001b[0m \u001b[0;32min\u001b[0m \u001b[0mimages\u001b[0m\u001b[0;34m\u001b[0m\u001b[0;34m\u001b[0m\u001b[0m\n",
            "\u001b[0;32m/usr/local/lib/python3.10/dist-packages/transformers/models/donut/image_processing_donut.py\u001b[0m in \u001b[0;36m<listcomp>\u001b[0;34m(.0)\u001b[0m\n\u001b[1;32m    425\u001b[0m         \u001b[0;32mif\u001b[0m \u001b[0mdo_resize\u001b[0m\u001b[0;34m:\u001b[0m\u001b[0;34m\u001b[0m\u001b[0;34m\u001b[0m\u001b[0m\n\u001b[1;32m    426\u001b[0m             images = [\n\u001b[0;32m--> 427\u001b[0;31m                 \u001b[0mself\u001b[0m\u001b[0;34m.\u001b[0m\u001b[0mresize\u001b[0m\u001b[0;34m(\u001b[0m\u001b[0mimage\u001b[0m\u001b[0;34m=\u001b[0m\u001b[0mimage\u001b[0m\u001b[0;34m,\u001b[0m \u001b[0msize\u001b[0m\u001b[0;34m=\u001b[0m\u001b[0msize\u001b[0m\u001b[0;34m,\u001b[0m \u001b[0mresample\u001b[0m\u001b[0;34m=\u001b[0m\u001b[0mresample\u001b[0m\u001b[0;34m,\u001b[0m \u001b[0minput_data_format\u001b[0m\u001b[0;34m=\u001b[0m\u001b[0minput_data_format\u001b[0m\u001b[0;34m)\u001b[0m\u001b[0;34m\u001b[0m\u001b[0;34m\u001b[0m\u001b[0m\n\u001b[0m\u001b[1;32m    428\u001b[0m                 \u001b[0;32mfor\u001b[0m \u001b[0mimage\u001b[0m \u001b[0;32min\u001b[0m \u001b[0mimages\u001b[0m\u001b[0;34m\u001b[0m\u001b[0;34m\u001b[0m\u001b[0m\n\u001b[1;32m    429\u001b[0m             ]\n",
            "\u001b[0;32m/usr/local/lib/python3.10/dist-packages/transformers/models/donut/image_processing_donut.py\u001b[0m in \u001b[0;36mresize\u001b[0;34m(self, image, size, resample, data_format, input_data_format, **kwargs)\u001b[0m\n\u001b[1;32m    286\u001b[0m             \u001b[0mimage\u001b[0m\u001b[0;34m,\u001b[0m \u001b[0msize\u001b[0m\u001b[0;34m=\u001b[0m\u001b[0mshortest_edge\u001b[0m\u001b[0;34m,\u001b[0m \u001b[0mdefault_to_square\u001b[0m\u001b[0;34m=\u001b[0m\u001b[0;32mFalse\u001b[0m\u001b[0;34m,\u001b[0m \u001b[0minput_data_format\u001b[0m\u001b[0;34m=\u001b[0m\u001b[0minput_data_format\u001b[0m\u001b[0;34m\u001b[0m\u001b[0;34m\u001b[0m\u001b[0m\n\u001b[1;32m    287\u001b[0m         )\n\u001b[0;32m--> 288\u001b[0;31m         resized_image = resize(\n\u001b[0m\u001b[1;32m    289\u001b[0m             \u001b[0mimage\u001b[0m\u001b[0;34m,\u001b[0m\u001b[0;34m\u001b[0m\u001b[0;34m\u001b[0m\u001b[0m\n\u001b[1;32m    290\u001b[0m             \u001b[0msize\u001b[0m\u001b[0;34m=\u001b[0m\u001b[0moutput_size\u001b[0m\u001b[0;34m,\u001b[0m\u001b[0;34m\u001b[0m\u001b[0;34m\u001b[0m\u001b[0m\n",
            "\u001b[0;32m/usr/local/lib/python3.10/dist-packages/transformers/image_transforms.py\u001b[0m in \u001b[0;36mresize\u001b[0;34m(image, size, resample, reducing_gap, data_format, return_numpy, input_data_format)\u001b[0m\n\u001b[1;32m    339\u001b[0m     \u001b[0mheight\u001b[0m\u001b[0;34m,\u001b[0m \u001b[0mwidth\u001b[0m \u001b[0;34m=\u001b[0m \u001b[0msize\u001b[0m\u001b[0;34m\u001b[0m\u001b[0;34m\u001b[0m\u001b[0m\n\u001b[1;32m    340\u001b[0m     \u001b[0;31m# PIL images are in the format (width, height)\u001b[0m\u001b[0;34m\u001b[0m\u001b[0;34m\u001b[0m\u001b[0m\n\u001b[0;32m--> 341\u001b[0;31m     \u001b[0mresized_image\u001b[0m \u001b[0;34m=\u001b[0m \u001b[0mimage\u001b[0m\u001b[0;34m.\u001b[0m\u001b[0mresize\u001b[0m\u001b[0;34m(\u001b[0m\u001b[0;34m(\u001b[0m\u001b[0mwidth\u001b[0m\u001b[0;34m,\u001b[0m \u001b[0mheight\u001b[0m\u001b[0;34m)\u001b[0m\u001b[0;34m,\u001b[0m \u001b[0mresample\u001b[0m\u001b[0;34m=\u001b[0m\u001b[0mresample\u001b[0m\u001b[0;34m,\u001b[0m \u001b[0mreducing_gap\u001b[0m\u001b[0;34m=\u001b[0m\u001b[0mreducing_gap\u001b[0m\u001b[0;34m)\u001b[0m\u001b[0;34m\u001b[0m\u001b[0;34m\u001b[0m\u001b[0m\n\u001b[0m\u001b[1;32m    342\u001b[0m \u001b[0;34m\u001b[0m\u001b[0m\n\u001b[1;32m    343\u001b[0m     \u001b[0;32mif\u001b[0m \u001b[0mreturn_numpy\u001b[0m\u001b[0;34m:\u001b[0m\u001b[0;34m\u001b[0m\u001b[0;34m\u001b[0m\u001b[0m\n",
            "\u001b[0;32m/usr/local/lib/python3.10/dist-packages/PIL/Image.py\u001b[0m in \u001b[0;36mresize\u001b[0;34m(self, size, resample, box, reducing_gap)\u001b[0m\n\u001b[1;32m   2363\u001b[0m                 )\n\u001b[1;32m   2364\u001b[0m \u001b[0;34m\u001b[0m\u001b[0m\n\u001b[0;32m-> 2365\u001b[0;31m         \u001b[0;32mreturn\u001b[0m \u001b[0mself\u001b[0m\u001b[0;34m.\u001b[0m\u001b[0m_new\u001b[0m\u001b[0;34m(\u001b[0m\u001b[0mself\u001b[0m\u001b[0;34m.\u001b[0m\u001b[0mim\u001b[0m\u001b[0;34m.\u001b[0m\u001b[0mresize\u001b[0m\u001b[0;34m(\u001b[0m\u001b[0msize\u001b[0m\u001b[0;34m,\u001b[0m \u001b[0mresample\u001b[0m\u001b[0;34m,\u001b[0m \u001b[0mbox\u001b[0m\u001b[0;34m)\u001b[0m\u001b[0;34m)\u001b[0m\u001b[0;34m\u001b[0m\u001b[0;34m\u001b[0m\u001b[0m\n\u001b[0m\u001b[1;32m   2366\u001b[0m \u001b[0;34m\u001b[0m\u001b[0m\n\u001b[1;32m   2367\u001b[0m     def reduce(\n",
            "\u001b[0;31mKeyboardInterrupt\u001b[0m: "
          ]
        }
      ],
      "source": [
        "for epoch in tqdm(range(epochs)):\n",
        "    train_loss = train(model,train_dataloader,focal_loss,optimizer,image_processor,tokenizer,device)\n",
        "    val_loss, f1, acc = val(model,val_dataloader,focal_loss,image_processor,tokenizer,device)\n",
        "    print(f'Epoch: {epoch} Train Loss: {train_loss} Val Loss: {val_loss} F1 score: {f1} Accuracy: {acc}')\n",
        "    scheduler.step()"
      ]
    },
    {
      "cell_type": "code",
      "execution_count": null,
      "metadata": {
        "id": "KG22DHknTXpA"
      },
      "outputs": [],
      "source": []
    },
    {
      "cell_type": "code",
      "execution_count": null,
      "metadata": {
        "id": "g8DhIdlXTXpA"
      },
      "outputs": [],
      "source": []
    },
    {
      "cell_type": "code",
      "execution_count": null,
      "metadata": {
        "id": "QiNYwNKbTXpA"
      },
      "outputs": [],
      "source": []
    }
  ],
  "metadata": {
    "kernelspec": {
      "display_name": "Python 3",
      "name": "python3"
    },
    "language_info": {
      "codemirror_mode": {
        "name": "ipython",
        "version": 3
      },
      "file_extension": ".py",
      "mimetype": "text/x-python",
      "name": "python",
      "nbconvert_exporter": "python",
      "pygments_lexer": "ipython3",
      "version": "3.9.20"
    },
    "colab": {
      "provenance": [],
      "gpuType": "T4",
      "include_colab_link": true
    },
    "accelerator": "GPU"
  },
  "nbformat": 4,
  "nbformat_minor": 0
}
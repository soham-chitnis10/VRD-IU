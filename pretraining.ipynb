{
 "cells": [
  {
   "cell_type": "code",
   "execution_count": null,
   "metadata": {},
   "outputs": [],
   "source": [
    "%pip install wandb"
   ]
  },
  {
   "cell_type": "code",
   "execution_count": null,
   "metadata": {
    "id": "P5GZkbIrTXoy"
   },
   "outputs": [],
   "source": [
    "from torch.utils.data import Dataset, DataLoader\n",
    "from PIL import Image\n",
    "import os\n",
    "import torchvision.transforms as transforms\n",
    "import pickle\n",
    "from transformers import AutoImageProcessor, AutoTokenizer\n",
    "class CompDataset(Dataset):\n",
    "    def __init__(self, pickle_file,image_path_root):\n",
    "        super().__init__()\n",
    "        with open(pickle_file, 'rb') as file:\n",
    "            data = pickle.load(file)\n",
    "        self.components = []\n",
    "        self.image_paths = []\n",
    "        for k in data.keys():\n",
    "            self.components.extend(data[k]['components'])\n",
    "            self.image_paths.extend([ f\"{os.path.join(image_path_root,k)}_page-{comp['page']}.png\" for comp in data[k]['components']])\n",
    "\n",
    "    def __len__(self):\n",
    "        return len(self.components)\n",
    "\n",
    "    def __getitem__(self, index):\n",
    "        comp = self.components[index]\n",
    "        img = Image.open(self.image_paths[index]).convert(\"RGB\")\n",
    "        bbox = comp['bbox']\n",
    "        cropped_img = transforms.functional.crop(img,top=bbox[1],left=bbox[0],height=bbox[3],width=bbox[2])\n",
    "        try:\n",
    "            text = comp['text']\n",
    "        except:\n",
    "            text = comp['category']\n",
    "        return (cropped_img, text, comp['category_id'])"
   ]
  },
  {
   "cell_type": "code",
   "execution_count": null,
   "metadata": {
    "id": "NbAx9uCdTXo1"
   },
   "outputs": [],
   "source": [
    "import torch\n",
    "def collate_fn(batch):\n",
    "    images = [e[0] for e in batch]\n",
    "    text = [e[1] for e in batch]\n",
    "    labels = torch.tensor([e[2] for e in batch], dtype=torch.long)\n",
    "    return (images, text, labels)"
   ]
  },
  {
   "cell_type": "code",
   "execution_count": null,
   "metadata": {
    "id": "HfzZlANkTXo5"
   },
   "outputs": [],
   "source": [
    "import torch.nn as nn\n",
    "from transformers import XLMRobertaModel, DonutSwinModel\n",
    "class FusionLayer(nn.Module):\n",
    "    def __init__(self, visual_dim, text_dim, num_heads=4):\n",
    "        super().__init__()\n",
    "        self.visual_dim = visual_dim\n",
    "        self.text_dim = text_dim\n",
    "        self.mhsa = nn.MultiheadAttention(self.visual_dim,num_heads,kdim=text_dim,batch_first=True)\n",
    "        self.fc = nn.Sequential(nn.Linear(self.visual_dim,self.visual_dim*2),nn.GELU(),nn.Linear(self.visual_dim*2,self.visual_dim))\n",
    "        self.layer_norm = nn.LayerNorm(self.visual_dim)\n",
    "\n",
    "    def forward(self, visual_embedding, textual_embedding):\n",
    "        visual_embedding = visual_embedding.unsqueeze(1)\n",
    "        textual_embedding = textual_embedding.unsqueeze(1)\n",
    "        self.mhsa.to(visual_embedding.device)\n",
    "        fused_embed,_ = self.mhsa(visual_embedding,textual_embedding,visual_embedding)\n",
    "        normalize_fused_embed = self.layer_norm(fused_embed.squeeze(1)) + visual_embedding.squeeze(1)\n",
    "        layer_embed = self.layer_norm(self.fc(normalize_fused_embed)) + normalize_fused_embed\n",
    "        return layer_embed\n",
    "\n",
    "class FusionAttentionModule(nn.Module):\n",
    "    def __init__(self, visual_dim, text_dim, num_layers = 3):\n",
    "        super().__init__()\n",
    "        self.fusion_layers = nn.ModuleList([FusionLayer(visual_dim,text_dim) for _ in range(num_layers)])\n",
    "\n",
    "    def forward(self, visual_embedding, textual_embedding):\n",
    "        for layer in self.fusion_layers:\n",
    "          visual_embedding = layer(visual_embedding,textual_embedding)\n",
    "        return visual_embedding\n",
    "\n",
    "\n",
    "class ComponentEncoder(nn.Module):\n",
    "    def __init__(self,num_layers=3,freeze_visual=True, freeze_textual=True):\n",
    "        super().__init__()\n",
    "        self.visual_encoder = DonutSwinModel.from_pretrained(\"./donut_encoder\")\n",
    "        self.textual_encoder = XLMRobertaModel.from_pretrained(\"FacebookAI/xlm-roberta-base\")\n",
    "        if freeze_visual:\n",
    "            for p in self.visual_encoder.parameters():\n",
    "                p.requires_grad = False\n",
    "        if freeze_textual:\n",
    "            for p in self.textual_encoder.parameters():\n",
    "                p.requires_grad = False\n",
    "        self.fusion_module = FusionAttentionModule(self.visual_encoder.config.hidden_size,self.textual_encoder.config.hidden_size,num_layers)\n",
    "\n",
    "    def forward(self, image_inputs, text_inputs):\n",
    "        visual_embedding = self.visual_encoder(**image_inputs).pooler_output\n",
    "        textual_embedding = self.textual_encoder(**text_inputs).pooler_output\n",
    "        fused_embedding = self.fusion_module(visual_embedding,textual_embedding)\n",
    "        return fused_embedding\n",
    "\n",
    "class ComponentDect(nn.Module):\n",
    "    def __init__(self, num_classes,num_layers=3,freeze_visual=True, freeze_textual=True,*args, **kwargs):\n",
    "        super().__init__(*args, **kwargs)\n",
    "        self.encoder = ComponentEncoder(num_layers,freeze_visual, freeze_textual)\n",
    "        self.fc = nn.Linear(self.encoder.visual_encoder.config.hidden_size,num_classes)\n",
    "\n",
    "    def forward(self, image_inputs, text_inputs):\n",
    "        embed = self.encoder(image_inputs, text_inputs)\n",
    "        pred = self.fc(embed)\n",
    "        return pred\n"
   ]
  },
  {
   "cell_type": "code",
   "execution_count": null,
   "metadata": {
    "id": "ueBKiXBQTXo9"
   },
   "outputs": [],
   "source": [
    "def focal_loss(pred, targets, alpha=0.25, gamma=2.0):\n",
    "    log_prob = torch.log_softmax(pred,dim=1)\n",
    "    one_hot_target = nn.functional.one_hot(targets,log_prob.shape[1])\n",
    "    weight = alpha*torch.pow(1- log_prob.exp(),gamma)\n",
    "    loss = torch.mean((-1*weight*log_prob)*one_hot_target)\n",
    "    return loss\n"
   ]
  },
  {
   "cell_type": "code",
   "execution_count": null,
   "metadata": {
    "id": "rx1ztdStTXo-"
   },
   "outputs": [],
   "source": [
    "from tqdm import tqdm\n",
    "def train(model,train_dataloader, criterion, optimizer, image_processor, tokenizer, device):\n",
    "    total_loss = 0\n",
    "    model.train()\n",
    "    for (images, texts, labels) in tqdm(train_dataloader):\n",
    "        image_inputs = image_processor(images, return_tensors=\"pt\").to(device)\n",
    "        text_inputs = tokenizer(texts, return_tensors=\"pt\", padding=True, truncation=True).to(device)\n",
    "        labels = labels.to(device)\n",
    "        pred = model(image_inputs,text_inputs)\n",
    "        loss = criterion(pred,labels)\n",
    "        total_loss += loss.item()\n",
    "        optimizer.zero_grad()\n",
    "        loss.backward()\n",
    "        optimizer.step()\n",
    "    return loss/len(train_dataloader)\n",
    "\n"
   ]
  },
  {
   "cell_type": "code",
   "execution_count": null,
   "metadata": {
    "id": "l6mP_cvlTXo-"
   },
   "outputs": [],
   "source": [
    "from sklearn.metrics import f1_score,accuracy_score\n",
    "def val(model,val_dataloader, criterion, image_processor, tokenizer, device):\n",
    "    total_loss = 0\n",
    "    model.eval()\n",
    "    predictions = []\n",
    "    all_labels = []\n",
    "    with torch.no_grad():\n",
    "        for (images, texts, labels) in tqdm(val_dataloader):\n",
    "            image_inputs = image_processor(images, return_tensors=\"pt\").to(device)\n",
    "            text_inputs = tokenizer(texts, return_tensors=\"pt\", padding=True, truncation=True).to(device)\n",
    "            labels = labels.to(device)\n",
    "            pred = model(image_inputs,text_inputs)\n",
    "            loss = criterion(pred,labels)\n",
    "            total_loss += loss.item()\n",
    "            pred_classes = torch.argmax(pred,dim=1)\n",
    "            predictions.append(pred_classes.detach().cpu())\n",
    "            all_labels.append(labels.detach().cpu())\n",
    "    predictions = torch.concat(predictions,dim=0)\n",
    "    all_labels = torch.concat(all_labels,dim=0)\n",
    "    f1 = f1_score(all_labels.numpy(), predictions.numpy())\n",
    "    acc =accuracy_score(all_labels.numpy(), predictions.numpy())\n",
    "    return loss/len(val_dataloader), f1, acc"
   ]
  },
  {
   "cell_type": "code",
   "execution_count": null,
   "metadata": {
    "colab": {
     "base_uri": "https://localhost:8080/",
     "height": 1000
    },
    "collapsed": true,
    "id": "ZyTAR5ORTXo_",
    "outputId": "d0a6dc17-3b4d-4be9-fecb-18861013aa67"
   },
   "outputs": [],
   "source": [
    "import wandb\n",
    "from torch import optim\n",
    "wandb.login(key=\"330d535f50c89464539700ab0fb6744d8043971b\")\n",
    "with wandb.init(project=\"vrd-iu\"):\n",
    "    train_dataset = CompDataset('train_data.pkl','train/train')\n",
    "    val_dataset = CompDataset('val_data.pkl','val/val')\n",
    "    train_dataloader = DataLoader(train_dataset,batch_size=10, shuffle=True,collate_fn=collate_fn)\n",
    "    val_dataloader = DataLoader(val_dataset,batch_size=10,collate_fn=collate_fn)\n",
    "    image_processor = AutoImageProcessor.from_pretrained(\"nielsr/donut-base\")\n",
    "    tokenizer = AutoTokenizer.from_pretrained(\"FacebookAI/xlm-roberta-base\")\n",
    "    model = ComponentDect(num_classes=25,num_layers=1,freeze_textual=True, freeze_visual=True)\n",
    "    device = torch.device(\"cuda\" if torch.cuda.is_available() else \"cpu\")\n",
    "    model = model.to(device)\n",
    "    wandb.watch(model, log=\"all\")\n",
    "    epochs = 50\n",
    "    optimizer = optim.AdamW(model.parameters(), lr=1e-3,weight_decay=1e-5)\n",
    "    scheduler = optim.lr_scheduler.CosineAnnealingLR(optimizer,epochs,eta_min=1e-5,)\n",
    "    best_f1_score = 0\n",
    "    for epoch in tqdm(range(epochs)):\n",
    "        train_loss = train(model,train_dataloader,focal_loss,optimizer,image_processor,tokenizer,device)\n",
    "        val_loss, f1, acc = val(model,val_dataloader,focal_loss,image_processor,tokenizer,device)\n",
    "        print(f'Epoch: {epoch} Train Loss: {train_loss} Val Loss: {val_loss} F1 score: {f1} Accuracy: {acc}')\n",
    "        if best_f1_score < f1:\n",
    "            best_f1_score = f1\n",
    "            torch.save(model.state_dict(),\"comp_enc.pth\")\n",
    "            artifact = wandb.Artifact(\"comp-enc\",type=\"model\")\n",
    "            artifact.add_file(\"comp_enc.pth\")\n",
    "            wandb.log_artifact(artifact)\n",
    "        wandb.log({\"train_loss\":train_loss,\"val_loss\":val_loss,\"accuracy\":acc, \"f1_score\": f1,\"lr\":scheduler.get_last_lr()[0]})\n",
    "        scheduler.step()"
   ]
  }
 ],
 "metadata": {
  "accelerator": "GPU",
  "colab": {
   "gpuType": "T4",
   "include_colab_link": true,
   "provenance": []
  },
  "kernelspec": {
   "display_name": "dl_proj",
   "language": "python",
   "name": "python3"
  },
  "language_info": {
   "codemirror_mode": {
    "name": "ipython",
    "version": 3
   },
   "file_extension": ".py",
   "mimetype": "text/x-python",
   "name": "python",
   "nbconvert_exporter": "python",
   "pygments_lexer": "ipython3",
   "version": "3.9.20"
  }
 },
 "nbformat": 4,
 "nbformat_minor": 0
}
